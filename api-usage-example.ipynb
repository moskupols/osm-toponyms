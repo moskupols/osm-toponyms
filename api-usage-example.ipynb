{
 "cells": [
  {
   "cell_type": "markdown",
   "metadata": {},
   "source": [
    "# Улицы"
   ]
  },
  {
   "cell_type": "markdown",
   "metadata": {},
   "source": [
    "## выкачивание данных"
   ]
  },
  {
   "cell_type": "code",
   "execution_count": 133,
   "metadata": {
    "collapsed": true
   },
   "outputs": [],
   "source": [
    "import overpy\n",
    "op = overpy.Overpass()"
   ]
  },
  {
   "cell_type": "code",
   "execution_count": 134,
   "metadata": {
    "collapsed": false
   },
   "outputs": [],
   "source": [
    "# http://gis.stackexchange.com/questions/178424/overpass-turbo-area-code-lookup\n",
    "AREA = \"3600060189\"  # Russia"
   ]
  },
  {
   "cell_type": "code",
   "execution_count": null,
   "metadata": {
    "collapsed": false
   },
   "outputs": [],
   "source": [
    "r = op.query('''\n",
    "area({})->.searchArea;\n",
    "(\n",
    "    way\n",
    "    [\"name\"][\"highway\"]\n",
    "    (area.searchArea);\n",
    ");\n",
    "out;\n",
    "'''.format(AREA))"
   ]
  },
  {
   "cell_type": "code",
   "execution_count": null,
   "metadata": {
    "collapsed": false
   },
   "outputs": [],
   "source": [
    "import cPickle\n",
    "with open('ways_ru.pcl', 'wb') as pcl:\n",
    "    cPickle.dump(r, pcl)"
   ]
  },
  {
   "cell_type": "markdown",
   "metadata": {},
   "source": [
    "## загрузка данных"
   ]
  },
  {
   "cell_type": "code",
   "execution_count": 15,
   "metadata": {
    "collapsed": false
   },
   "outputs": [],
   "source": [
    "import cPickle\n",
    "with open('ways_ru.pcl', 'rb') as pcl:\n",
    "    r = cPickle.load(pcl)"
   ]
  },
  {
   "cell_type": "code",
   "execution_count": 16,
   "metadata": {
    "collapsed": false,
    "scrolled": true
   },
   "outputs": [
    {
     "data": {
      "text/plain": [
       "{'highway': 'tertiary',\n",
       " 'name': u'\\u041a\\u043e\\u043c\\u0441\\u043e\\u043c\\u043e\\u043b\\u044c\\u0441\\u043a\\u0430\\u044f \\u0443\\u043b\\u0438\\u0446\\u0430',\n",
       " 'name:en': \"Komsomol'skaja street\",\n",
       " 'name:ru': u'\\u041a\\u043e\\u043c\\u0441\\u043e\\u043c\\u043e\\u043b\\u044c\\u0441\\u043a\\u0430\\u044f \\u0443\\u043b\\u0438\\u0446\\u0430',\n",
       " 'postal_code': '183038',\n",
       " 'surface': 'asphalt'}"
      ]
     },
     "execution_count": 16,
     "metadata": {},
     "output_type": "execute_result"
    }
   ],
   "source": [
    "r.ways[1].tags"
   ]
  },
  {
   "cell_type": "code",
   "execution_count": 17,
   "metadata": {
    "collapsed": false
   },
   "outputs": [
    {
     "data": {
      "text/html": [
       "<div>\n",
       "<table border=\"1\" class=\"dataframe\">\n",
       "  <thead>\n",
       "    <tr style=\"text-align: right;\">\n",
       "      <th></th>\n",
       "      <th>name</th>\n",
       "      <th>highway</th>\n",
       "      <th>name:en</th>\n",
       "      <th>name:de</th>\n",
       "    </tr>\n",
       "  </thead>\n",
       "  <tbody>\n",
       "    <tr>\n",
       "      <th>4078548</th>\n",
       "      <td>Шепетовская улица</td>\n",
       "      <td>residential</td>\n",
       "      <td>NaN</td>\n",
       "      <td>NaN</td>\n",
       "    </tr>\n",
       "    <tr>\n",
       "      <th>4391345</th>\n",
       "      <td>Комсомольская улица</td>\n",
       "      <td>tertiary</td>\n",
       "      <td>Komsomol'skaja street</td>\n",
       "      <td>NaN</td>\n",
       "    </tr>\n",
       "    <tr>\n",
       "      <th>4391346</th>\n",
       "      <td>проспект Ленина</td>\n",
       "      <td>primary</td>\n",
       "      <td>Lenina avenue</td>\n",
       "      <td>NaN</td>\n",
       "    </tr>\n",
       "    <tr>\n",
       "      <th>4391347</th>\n",
       "      <td>улица Полярные Зори</td>\n",
       "      <td>secondary</td>\n",
       "      <td>Poljarnye Zori street</td>\n",
       "      <td>NaN</td>\n",
       "    </tr>\n",
       "    <tr>\n",
       "      <th>4391349</th>\n",
       "      <td>улица Книповича</td>\n",
       "      <td>secondary</td>\n",
       "      <td>Knipovicha street</td>\n",
       "      <td>NaN</td>\n",
       "    </tr>\n",
       "  </tbody>\n",
       "</table>\n",
       "</div>"
      ],
      "text/plain": [
       "                        name      highway                name:en name:de\n",
       "4078548    Шепетовская улица  residential                    NaN     NaN\n",
       "4391345  Комсомольская улица     tertiary  Komsomol'skaja street     NaN\n",
       "4391346      проспект Ленина      primary          Lenina avenue     NaN\n",
       "4391347  улица Полярные Зори    secondary  Poljarnye Zori street     NaN\n",
       "4391349      улица Книповича    secondary      Knipovicha street     NaN"
      ]
     },
     "execution_count": 17,
     "metadata": {},
     "output_type": "execute_result"
    }
   ],
   "source": [
    "import pandas as pd\n",
    "\n",
    "df = pd.DataFrame(\n",
    "    data=[w.tags for w in r.ways],\n",
    "    index=[w.id for w in r.ways],\n",
    "    columns=['name', 'highway', 'name:en', 'name:de']\n",
    ")\n",
    "#, 'highway', 'name:en', 'name:de']\n",
    "df.head()"
   ]
  },
  {
   "cell_type": "code",
   "execution_count": 18,
   "metadata": {
    "collapsed": false
   },
   "outputs": [
    {
     "data": {
      "text/plain": [
       "668675"
      ]
     },
     "execution_count": 18,
     "metadata": {},
     "output_type": "execute_result"
    }
   ],
   "source": [
    "len(df)"
   ]
  },
  {
   "cell_type": "code",
   "execution_count": 19,
   "metadata": {
    "collapsed": true
   },
   "outputs": [],
   "source": [
    "streets_of = df[\n",
    "    df.name.str.startswith(u'улица')\n",
    "    | df.name.str.startswith(u'проспект')\n",
    "].copy()"
   ]
  },
  {
   "cell_type": "code",
   "execution_count": 20,
   "metadata": {
    "collapsed": false,
    "scrolled": true
   },
   "outputs": [],
   "source": [
    "import pymorphy2\n",
    "from functools32 import lru_cache\n",
    "\n",
    "morph_analyzer = pymorphy2.MorphAnalyzer()\n",
    "\n",
    "@lru_cache()\n",
    "def street_to_normalized_surname(s):\n",
    "    inflected = s.split()[1:]\n",
    "    morph = [morph_analyzer.parse(word) for word in inflected]\n",
    "    normalized = []\n",
    "    for m in morph:\n",
    "        if not any('NOUN' in form.tag.grammemes for form in m):\n",
    "            return None\n",
    "        if not any(form.is_known for form in m):  # the word has not occurred on OpenCorpora, probably a rare surname\n",
    "            normalized.append(m[0].normalized.word)\n",
    "            continue\n",
    "        for form in m:\n",
    "            if form.is_known and form.tag.grammemes.intersection({'Name', 'Surn'}) and form.tag.case == 'gent':\n",
    "                normalized.append(form.normal_form)\n",
    "                break\n",
    "        else:\n",
    "            return None\n",
    "    return ' '.join(normalized) if len(normalized) else None\n",
    "\n",
    "streets_of['norm_surname'] = streets_of.name.map(street_to_normalized_surname)"
   ]
  },
  {
   "cell_type": "code",
   "execution_count": 21,
   "metadata": {
    "collapsed": false
   },
   "outputs": [],
   "source": [
    "streets_of['of'] = streets_of.name.str.rpartition(' ')[2]"
   ]
  },
  {
   "cell_type": "code",
   "execution_count": null,
   "metadata": {
    "collapsed": false
   },
   "outputs": [],
   "source": [
    "len(streets_of)"
   ]
  },
  {
   "cell_type": "code",
   "execution_count": null,
   "metadata": {
    "collapsed": false
   },
   "outputs": [],
   "source": [
    "streets_of.head()"
   ]
  },
  {
   "cell_type": "code",
   "execution_count": null,
   "metadata": {
    "collapsed": false
   },
   "outputs": [],
   "source": [
    "streets_of.norm_surname.value_counts().head(15)"
   ]
  },
  {
   "cell_type": "code",
   "execution_count": null,
   "metadata": {
    "collapsed": false
   },
   "outputs": [],
   "source": [
    "streets_of.norm_surname.value_counts().tail(15)"
   ]
  },
  {
   "cell_type": "code",
   "execution_count": null,
   "metadata": {
    "collapsed": false
   },
   "outputs": [],
   "source": [
    "streets_of.norm_surname.value_counts().iloc[2000:2015]"
   ]
  },
  {
   "cell_type": "markdown",
   "metadata": {},
   "source": [
    "# Места"
   ]
  },
  {
   "cell_type": "markdown",
   "metadata": {},
   "source": [
    "## выкачивание данных"
   ]
  },
  {
   "cell_type": "code",
   "execution_count": null,
   "metadata": {
    "collapsed": true
   },
   "outputs": [],
   "source": [
    "import overpy\n",
    "op = overpy.Overpass()"
   ]
  },
  {
   "cell_type": "code",
   "execution_count": null,
   "metadata": {
    "collapsed": false
   },
   "outputs": [],
   "source": [
    "# http://gis.stackexchange.com/questions/178424/overpass-turbo-area-code-lookup\n",
    "AREA = \"3600060189\"  # Russia"
   ]
  },
  {
   "cell_type": "code",
   "execution_count": null,
   "metadata": {
    "collapsed": false
   },
   "outputs": [],
   "source": [
    "r = op.query('''\n",
    "area({})->.searchArea;\n",
    "(\n",
    "    node\n",
    "    [\"name\"][\"place\"]\n",
    "    (area.searchArea);\n",
    ");\n",
    "out;\n",
    "'''.format(AREA))"
   ]
  },
  {
   "cell_type": "code",
   "execution_count": null,
   "metadata": {
    "collapsed": false
   },
   "outputs": [],
   "source": [
    "import cPickle\n",
    "with open('places_ru.pcl', 'wb') as pcl:\n",
    "    cPickle.dump(r, pcl)"
   ]
  },
  {
   "cell_type": "markdown",
   "metadata": {},
   "source": [
    "## загрузка данных"
   ]
  },
  {
   "cell_type": "code",
   "execution_count": 22,
   "metadata": {
    "collapsed": false
   },
   "outputs": [],
   "source": [
    "import cPickle\n",
    "with open('places_ru.pcl', 'rb') as pcl:\n",
    "    r = cPickle.load(pcl)"
   ]
  },
  {
   "cell_type": "code",
   "execution_count": 23,
   "metadata": {
    "collapsed": false
   },
   "outputs": [
    {
     "data": {
      "text/plain": [
       "{'addr:country': 'RU',\n",
       " 'addr:district': u'\\u041a\\u0430\\u043d\\u0434\\u0430\\u043b\\u0430\\u043a\\u0448\\u0441\\u043a\\u0438\\u0439 \\u0440\\u0430\\u0439\\u043e\\u043d',\n",
       " 'addr:postcode': '184041',\n",
       " 'addr:region': u'\\u041c\\u0443\\u0440\\u043c\\u0430\\u043d\\u0441\\u043a\\u0430\\u044f \\u043e\\u0431\\u043b\\u0430\\u0441\\u0442\\u044c',\n",
       " 'int_name': 'Kandalaksha',\n",
       " 'name': u'\\u041a\\u0430\\u043d\\u0434\\u0430\\u043b\\u0430\\u043a\\u0448\\u0430',\n",
       " 'name:de': 'Kandalakscha',\n",
       " 'name:en': 'Kandalaksha',\n",
       " 'name:fi': 'Kantalahti',\n",
       " 'name:fr': 'Kandalakcha',\n",
       " 'name:lt': u'Kandalak\\u0161a',\n",
       " 'name:ru': u'\\u041a\\u0430\\u043d\\u0434\\u0430\\u043b\\u0430\\u043a\\u0448\\u0430',\n",
       " 'old_name:sv': 'Kandalaksa',\n",
       " 'place': 'town',\n",
       " 'population': '36600',\n",
       " 'wikipedia': u'ru:\\u041a\\u0430\\u043d\\u0434\\u0430\\u043b\\u0430\\u043a\\u0448\\u0430'}"
      ]
     },
     "execution_count": 23,
     "metadata": {},
     "output_type": "execute_result"
    }
   ],
   "source": [
    "r.nodes[1].tags"
   ]
  },
  {
   "cell_type": "code",
   "execution_count": 114,
   "metadata": {
    "collapsed": false
   },
   "outputs": [
    {
     "data": {
      "text/html": [
       "<div>\n",
       "<table border=\"1\" class=\"dataframe\">\n",
       "  <thead>\n",
       "    <tr style=\"text-align: right;\">\n",
       "      <th></th>\n",
       "      <th>name</th>\n",
       "      <th>place</th>\n",
       "      <th>population</th>\n",
       "    </tr>\n",
       "  </thead>\n",
       "  <tbody>\n",
       "    <tr>\n",
       "      <th>36966065</th>\n",
       "      <td>Asia</td>\n",
       "      <td>continent</td>\n",
       "      <td>4000000000</td>\n",
       "    </tr>\n",
       "    <tr>\n",
       "      <th>424314830</th>\n",
       "      <td>Россия</td>\n",
       "      <td>country</td>\n",
       "      <td>143142000</td>\n",
       "    </tr>\n",
       "    <tr>\n",
       "      <th>915341178</th>\n",
       "      <td>Учкент</td>\n",
       "      <td>village</td>\n",
       "      <td>38003921</td>\n",
       "    </tr>\n",
       "    <tr>\n",
       "      <th>1686293227</th>\n",
       "      <td>Москва</td>\n",
       "      <td>city</td>\n",
       "      <td>12330126</td>\n",
       "    </tr>\n",
       "    <tr>\n",
       "      <th>27490597</th>\n",
       "      <td>Санкт-Петербург</td>\n",
       "      <td>city</td>\n",
       "      <td>5225690</td>\n",
       "    </tr>\n",
       "    <tr>\n",
       "      <th>2050243275</th>\n",
       "      <td>Санкт-Петербург</td>\n",
       "      <td>state</td>\n",
       "      <td>5000000</td>\n",
       "    </tr>\n",
       "    <tr>\n",
       "      <th>648753998</th>\n",
       "      <td>Воронежская область</td>\n",
       "      <td>state</td>\n",
       "      <td>2328959</td>\n",
       "    </tr>\n",
       "    <tr>\n",
       "      <th>27503928</th>\n",
       "      <td>Новосибирск</td>\n",
       "      <td>city</td>\n",
       "      <td>1584138</td>\n",
       "    </tr>\n",
       "    <tr>\n",
       "      <th>27503892</th>\n",
       "      <td>Екатеринбург</td>\n",
       "      <td>city</td>\n",
       "      <td>1500394</td>\n",
       "    </tr>\n",
       "    <tr>\n",
       "      <th>27505889</th>\n",
       "      <td>Нижний Новгород</td>\n",
       "      <td>city</td>\n",
       "      <td>1267760</td>\n",
       "    </tr>\n",
       "  </tbody>\n",
       "</table>\n",
       "</div>"
      ],
      "text/plain": [
       "                           name      place  population\n",
       "36966065                   Asia  continent  4000000000\n",
       "424314830                Россия    country   143142000\n",
       "915341178                Учкент    village    38003921\n",
       "1686293227               Москва       city    12330126\n",
       "27490597        Санкт-Петербург       city     5225690\n",
       "2050243275      Санкт-Петербург      state     5000000\n",
       "648753998   Воронежская область      state     2328959\n",
       "27503928            Новосибирск       city     1584138\n",
       "27503892           Екатеринбург       city     1500394\n",
       "27505889        Нижний Новгород       city     1267760"
      ]
     },
     "execution_count": 114,
     "metadata": {},
     "output_type": "execute_result"
    }
   ],
   "source": [
    "import pandas as pd\n",
    "\n",
    "def parse_int(line):\n",
    "    try:\n",
    "        return int(line.replace(' ', '').replace('~', ''))\n",
    "    except:\n",
    "        return 0\n",
    "\n",
    "places = pd.DataFrame(\n",
    "    data=[w.tags for w in r.nodes],\n",
    "    index=[w.id for w in r.nodes],\n",
    "    columns=['name', 'place', 'population']\n",
    ")\n",
    "places.population = places.population.map(parse_int)\n",
    "places.sort_values(\"population\", ascending=False, inplace=True)\n",
    "places.head(10)"
   ]
  },
  {
   "cell_type": "code",
   "execution_count": 115,
   "metadata": {
    "collapsed": false
   },
   "outputs": [
    {
     "data": {
      "text/plain": [
       "hamlet               109493\n",
       "village               37090\n",
       "locality              17125\n",
       "suburb                 3544\n",
       "town                   2435\n",
       "allotments             1661\n",
       "neighbourhood          1634\n",
       "isolated_dwelling      1572\n",
       "city                    195\n",
       "island                  188\n",
       "quarter                 164\n",
       "state                    87\n",
       "islet                    51\n",
       "subdistrict              47\n",
       "archipelago              27\n",
       "square                   19\n",
       "farm                     18\n",
       "islands                   4\n",
       "allotments_set            3\n",
       "mountain_range            3\n",
       "region                    2\n",
       "historic                  2\n",
       "peninsula                 2\n",
       "1-й квартал               1\n",
       "county                    1\n",
       "sea                       1\n",
       "continent                 1\n",
       "post_box                  1\n",
       "country                   1\n",
       "Name: place, dtype: int64"
      ]
     },
     "execution_count": 115,
     "metadata": {},
     "output_type": "execute_result"
    }
   ],
   "source": [
    "places.place.value_counts()"
   ]
  },
  {
   "cell_type": "markdown",
   "metadata": {},
   "source": [
    "# Фамилии"
   ]
  },
  {
   "cell_type": "code",
   "execution_count": null,
   "metadata": {
    "collapsed": false
   },
   "outputs": [],
   "source": [
    "import bs4\n",
    "import requests"
   ]
  },
  {
   "cell_type": "code",
   "execution_count": null,
   "metadata": {
    "collapsed": false
   },
   "outputs": [],
   "source": [
    "raw_surnames = []\n",
    "for i in range(1, 36):\n",
    "    page = requests.get('http://allfamilii.narod.ru/{}.htm'.format(i))\n",
    "    parser = bs4.BeautifulSoup(page.text)\n",
    "    text = parser.select_one('fieldset p').text\n",
    "    raw_surnames.extend(text.split(', '))"
   ]
  },
  {
   "cell_type": "code",
   "execution_count": null,
   "metadata": {
    "collapsed": false
   },
   "outputs": [],
   "source": [
    "surnames = pd.DataFrame(\n",
    "    pd.Series(raw_surnames)\n",
    "        .str.strip()\n",
    "        .str.strip(',')\n",
    "        .str.lower()\n",
    "        .str.replace(u'ё', u'е')\n",
    "        .sort_values().unique()[2:],\n",
    "    columns=['surname'],\n",
    ")"
   ]
  },
  {
   "cell_type": "code",
   "execution_count": 90,
   "metadata": {
    "collapsed": false
   },
   "outputs": [],
   "source": [
    "import marisa_trie\n",
    "trie = marisa_trie.Trie(iter(surnames.surname))\n",
    "\n",
    "import Stemmer\n",
    "stemmer = Stemmer.Stemmer('russian')\n",
    "\n",
    "@lru_cache()\n",
    "def similar_surnames(word):\n",
    "    if word is None:\n",
    "        return None\n",
    "    stem = stemmer.stemWord(word)\n",
    "    keys = trie.keys(unicode(stem))\n",
    "    return ' '.join(keys) if len(keys) else None"
   ]
  },
  {
   "cell_type": "code",
   "execution_count": 116,
   "metadata": {
    "collapsed": false
   },
   "outputs": [],
   "source": [
    "places['matched'] = places.name.str.lower().map(similar_surnames)"
   ]
  },
  {
   "cell_type": "code",
   "execution_count": 117,
   "metadata": {
    "collapsed": true
   },
   "outputs": [],
   "source": [
    "places['stem'] = places.name.map(stemmer.stemWord)"
   ]
  },
  {
   "cell_type": "code",
   "execution_count": 233,
   "metadata": {
    "collapsed": false
   },
   "outputs": [
    {
     "name": "stderr",
     "output_type": "stream",
     "text": [
      "/usr/local/lib/python2.7/dist-packages/ipykernel/__main__.py:1: UserWarning: Boolean Series key will be reindexed to match DataFrame index.\n",
      "  if __name__ == '__main__':\n"
     ]
    },
    {
     "data": {
      "text/html": [
       "<div>\n",
       "<table border=\"1\" class=\"dataframe\">\n",
       "  <thead>\n",
       "    <tr style=\"text-align: right;\">\n",
       "      <th></th>\n",
       "      <th>name</th>\n",
       "      <th>place</th>\n",
       "      <th>population</th>\n",
       "      <th>matched</th>\n",
       "      <th>stem</th>\n",
       "      <th>exact</th>\n",
       "    </tr>\n",
       "  </thead>\n",
       "  <tbody>\n",
       "    <tr>\n",
       "      <th>27504067</th>\n",
       "      <td>Казань</td>\n",
       "      <td>city</td>\n",
       "      <td>1205651</td>\n",
       "      <td>казанцев</td>\n",
       "      <td>Казан</td>\n",
       "      <td>False</td>\n",
       "    </tr>\n",
       "    <tr>\n",
       "      <th>27503945</th>\n",
       "      <td>Самара</td>\n",
       "      <td>city</td>\n",
       "      <td>1171820</td>\n",
       "      <td>самарджич</td>\n",
       "      <td>Самар</td>\n",
       "      <td>False</td>\n",
       "    </tr>\n",
       "    <tr>\n",
       "      <th>113548786</th>\n",
       "      <td>Киров</td>\n",
       "      <td>city</td>\n",
       "      <td>493336</td>\n",
       "      <td>кириенко кириллин кирай кирос</td>\n",
       "      <td>Кир</td>\n",
       "      <td>False</td>\n",
       "    </tr>\n",
       "    <tr>\n",
       "      <th>148901125</th>\n",
       "      <td>Иваново</td>\n",
       "      <td>city</td>\n",
       "      <td>409285</td>\n",
       "      <td>иванов иванова ивановский</td>\n",
       "      <td>Иванов</td>\n",
       "      <td>False</td>\n",
       "    </tr>\n",
       "    <tr>\n",
       "      <th>246459003</th>\n",
       "      <td>Калуга</td>\n",
       "      <td>city</td>\n",
       "      <td>342936</td>\n",
       "      <td>калугин</td>\n",
       "      <td>Калуг</td>\n",
       "      <td>False</td>\n",
       "    </tr>\n",
       "    <tr>\n",
       "      <th>191771467</th>\n",
       "      <td>Шахты</td>\n",
       "      <td>city</td>\n",
       "      <td>237233</td>\n",
       "      <td>шахтахтинский</td>\n",
       "      <td>Шахт</td>\n",
       "      <td>False</td>\n",
       "    </tr>\n",
       "    <tr>\n",
       "      <th>191849717</th>\n",
       "      <td>Королёв</td>\n",
       "      <td>city</td>\n",
       "      <td>220947</td>\n",
       "      <td>королёв</td>\n",
       "      <td>Королёв</td>\n",
       "      <td>True</td>\n",
       "    </tr>\n",
       "    <tr>\n",
       "      <th>191657470</th>\n",
       "      <td>Абакан</td>\n",
       "      <td>city</td>\n",
       "      <td>176212</td>\n",
       "      <td>абаканович</td>\n",
       "      <td>Абака</td>\n",
       "      <td>False</td>\n",
       "    </tr>\n",
       "    <tr>\n",
       "      <th>207721468</th>\n",
       "      <td>Адлер</td>\n",
       "      <td>suburb</td>\n",
       "      <td>115000</td>\n",
       "      <td>адлер</td>\n",
       "      <td>Адлер</td>\n",
       "      <td>True</td>\n",
       "    </tr>\n",
       "    <tr>\n",
       "      <th>191884653</th>\n",
       "      <td>Муром</td>\n",
       "      <td>city</td>\n",
       "      <td>110746</td>\n",
       "      <td>мурата мурзин</td>\n",
       "      <td>Мур</td>\n",
       "      <td>False</td>\n",
       "    </tr>\n",
       "    <tr>\n",
       "      <th>256361884</th>\n",
       "      <td>Пушкино</td>\n",
       "      <td>city</td>\n",
       "      <td>108253</td>\n",
       "      <td>пушкин пушкина</td>\n",
       "      <td>Пушкин</td>\n",
       "      <td>False</td>\n",
       "    </tr>\n",
       "    <tr>\n",
       "      <th>191913805</th>\n",
       "      <td>Жуковский</td>\n",
       "      <td>city</td>\n",
       "      <td>107815</td>\n",
       "      <td>жуковская</td>\n",
       "      <td>Жуковск</td>\n",
       "      <td>False</td>\n",
       "    </tr>\n",
       "    <tr>\n",
       "      <th>27024680</th>\n",
       "      <td>Пушкин</td>\n",
       "      <td>city</td>\n",
       "      <td>100753</td>\n",
       "      <td>пушкин пушкина</td>\n",
       "      <td>Пушкин</td>\n",
       "      <td>True</td>\n",
       "    </tr>\n",
       "    <tr>\n",
       "      <th>288126203</th>\n",
       "      <td>Серов</td>\n",
       "      <td>city</td>\n",
       "      <td>98041</td>\n",
       "      <td>сергеев серебренников серкин</td>\n",
       "      <td>Сер</td>\n",
       "      <td>False</td>\n",
       "    </tr>\n",
       "  </tbody>\n",
       "</table>\n",
       "</div>"
      ],
      "text/plain": [
       "                name   place  population                        matched  \\\n",
       "27504067      Казань    city     1205651                       казанцев   \n",
       "27503945      Самара    city     1171820                      самарджич   \n",
       "113548786      Киров    city      493336  кириенко кириллин кирай кирос   \n",
       "148901125    Иваново    city      409285      иванов иванова ивановский   \n",
       "246459003     Калуга    city      342936                        калугин   \n",
       "191771467      Шахты    city      237233                  шахтахтинский   \n",
       "191849717    Королёв    city      220947                        королёв   \n",
       "191657470     Абакан    city      176212                     абаканович   \n",
       "207721468      Адлер  suburb      115000                          адлер   \n",
       "191884653      Муром    city      110746                  мурата мурзин   \n",
       "256361884    Пушкино    city      108253                 пушкин пушкина   \n",
       "191913805  Жуковский    city      107815                      жуковская   \n",
       "27024680      Пушкин    city      100753                 пушкин пушкина   \n",
       "288126203      Серов    city       98041   сергеев серебренников серкин   \n",
       "\n",
       "              stem  exact  \n",
       "27504067     Казан  False  \n",
       "27503945     Самар  False  \n",
       "113548786      Кир  False  \n",
       "148901125   Иванов  False  \n",
       "246459003    Калуг  False  \n",
       "191771467     Шахт  False  \n",
       "191849717  Королёв   True  \n",
       "191657470    Абака  False  \n",
       "207721468    Адлер   True  \n",
       "191884653      Мур  False  \n",
       "256361884   Пушкин  False  \n",
       "191913805  Жуковск  False  \n",
       "27024680    Пушкин   True  \n",
       "288126203      Сер  False  "
      ]
     },
     "execution_count": 233,
     "metadata": {},
     "output_type": "execute_result"
    }
   ],
   "source": [
    "places[places.matched.notnull()][places.population > 10000].iloc[1:15]"
   ]
  },
  {
   "cell_type": "code",
   "execution_count": 119,
   "metadata": {
    "collapsed": false
   },
   "outputs": [],
   "source": [
    "places['exact'] = places.name.str.lower().map(unicode).map(trie.__contains__)"
   ]
  },
  {
   "cell_type": "code",
   "execution_count": 235,
   "metadata": {
    "collapsed": false
   },
   "outputs": [
    {
     "data": {
      "text/html": [
       "<div>\n",
       "<table border=\"1\" class=\"dataframe\">\n",
       "  <thead>\n",
       "    <tr style=\"text-align: right;\">\n",
       "      <th></th>\n",
       "      <th>name</th>\n",
       "      <th>place</th>\n",
       "      <th>population</th>\n",
       "    </tr>\n",
       "  </thead>\n",
       "  <tbody>\n",
       "    <tr>\n",
       "      <th>191849717</th>\n",
       "      <td>Королёв</td>\n",
       "      <td>city</td>\n",
       "      <td>220947</td>\n",
       "    </tr>\n",
       "    <tr>\n",
       "      <th>207721468</th>\n",
       "      <td>Адлер</td>\n",
       "      <td>suburb</td>\n",
       "      <td>115000</td>\n",
       "    </tr>\n",
       "    <tr>\n",
       "      <th>27024680</th>\n",
       "      <td>Пушкин</td>\n",
       "      <td>city</td>\n",
       "      <td>100753</td>\n",
       "    </tr>\n",
       "    <tr>\n",
       "      <th>82739207</th>\n",
       "      <td>Чайковский</td>\n",
       "      <td>town</td>\n",
       "      <td>83202</td>\n",
       "    </tr>\n",
       "    <tr>\n",
       "      <th>93387393</th>\n",
       "      <td>Александров</td>\n",
       "      <td>town</td>\n",
       "      <td>60205</td>\n",
       "    </tr>\n",
       "    <tr>\n",
       "      <th>296362274</th>\n",
       "      <td>Яблоновский</td>\n",
       "      <td>town</td>\n",
       "      <td>32039</td>\n",
       "    </tr>\n",
       "    <tr>\n",
       "      <th>1921466406</th>\n",
       "      <td>Гагарин</td>\n",
       "      <td>town</td>\n",
       "      <td>29916</td>\n",
       "    </tr>\n",
       "    <tr>\n",
       "      <th>310354163</th>\n",
       "      <td>Богданович</td>\n",
       "      <td>town</td>\n",
       "      <td>29421</td>\n",
       "    </tr>\n",
       "    <tr>\n",
       "      <th>256361852</th>\n",
       "      <td>Рошаль</td>\n",
       "      <td>town</td>\n",
       "      <td>21167</td>\n",
       "    </tr>\n",
       "    <tr>\n",
       "      <th>286214595</th>\n",
       "      <td>Абаза</td>\n",
       "      <td>town</td>\n",
       "      <td>16009</td>\n",
       "    </tr>\n",
       "    <tr>\n",
       "      <th>309353206</th>\n",
       "      <td>Михайлов</td>\n",
       "      <td>town</td>\n",
       "      <td>10807</td>\n",
       "    </tr>\n",
       "    <tr>\n",
       "      <th>2013287005</th>\n",
       "      <td>Комаровский</td>\n",
       "      <td>town</td>\n",
       "      <td>8050</td>\n",
       "    </tr>\n",
       "    <tr>\n",
       "      <th>256827445</th>\n",
       "      <td>Орлов</td>\n",
       "      <td>town</td>\n",
       "      <td>6910</td>\n",
       "    </tr>\n",
       "    <tr>\n",
       "      <th>868999904</th>\n",
       "      <td>Подгорный</td>\n",
       "      <td>village</td>\n",
       "      <td>6558</td>\n",
       "    </tr>\n",
       "    <tr>\n",
       "      <th>353507888</th>\n",
       "      <td>Барабаш</td>\n",
       "      <td>village</td>\n",
       "      <td>5691</td>\n",
       "    </tr>\n",
       "  </tbody>\n",
       "</table>\n",
       "</div>"
      ],
      "text/plain": [
       "                   name    place  population\n",
       "191849717       Королёв     city      220947\n",
       "207721468         Адлер   suburb      115000\n",
       "27024680         Пушкин     city      100753\n",
       "82739207     Чайковский     town       83202\n",
       "93387393    Александров     town       60205\n",
       "296362274   Яблоновский     town       32039\n",
       "1921466406      Гагарин     town       29916\n",
       "310354163    Богданович     town       29421\n",
       "256361852        Рошаль     town       21167\n",
       "286214595         Абаза     town       16009\n",
       "309353206      Михайлов     town       10807\n",
       "2013287005  Комаровский     town        8050\n",
       "256827445         Орлов     town        6910\n",
       "868999904     Подгорный  village        6558\n",
       "353507888       Барабаш  village        5691"
      ]
     },
     "execution_count": 235,
     "metadata": {},
     "output_type": "execute_result"
    }
   ],
   "source": [
    "places[places.exact][['name', 'place', 'population']].iloc[:15]"
   ]
  },
  {
   "cell_type": "code",
   "execution_count": 98,
   "metadata": {
    "collapsed": false
   },
   "outputs": [
    {
     "data": {
      "text/plain": [
       "175372"
      ]
     },
     "execution_count": 98,
     "metadata": {},
     "output_type": "execute_result"
    }
   ],
   "source": [
    "len(places)"
   ]
  },
  {
   "cell_type": "markdown",
   "metadata": {},
   "source": [
    "## Фамилии/имена из Wikidata"
   ]
  },
  {
   "cell_type": "code",
   "execution_count": 2,
   "metadata": {
    "collapsed": true
   },
   "outputs": [],
   "source": [
    "import SPARQLWrapper"
   ]
  },
  {
   "cell_type": "code",
   "execution_count": 121,
   "metadata": {
    "collapsed": true
   },
   "outputs": [],
   "source": [
    "def load_wikidata(prop):\n",
    "    sparql = SPARQLWrapper.SPARQLWrapper(\"http://query.wikidata.org/sparql\")\n",
    "    \n",
    "    sparql.setQuery(\"\"\"\n",
    "PREFIX wd: <http://www.wikidata.org/entity/>\n",
    "PREFIX wdt: <http://www.wikidata.org/prop/direct/>\n",
    "\n",
    "SELECT ?surname ?surnameLabel ?count\n",
    "WHERE\n",
    "{\n",
    "  {\n",
    "    SELECT ?surname (COUNT(?person) AS ?count) WHERE {\n",
    "      ?person wdt:P31 wd:Q5.\n",
    "      ?person wdt:%s ?surname.\n",
    "    }\n",
    "    GROUP BY ?surname\n",
    "  }\n",
    "  SERVICE wikibase:label { bd:serviceParam wikibase:language \"ru\". }\n",
    "}\n",
    "ORDER BY DESC(?count)\n",
    "LIMIT 100\n",
    "    \"\"\" % (prop,))\n",
    "\n",
    "    sparql.setReturnFormat(SPARQLWrapper.JSON)\n",
    "    resp = sparql.query().convert()\n",
    "    \n",
    "def unpack_values(wd_resp, what):  \n",
    "    import re\n",
    "    return pd.DataFrame([\n",
    "        {\n",
    "            \"uri\": entry[\"surname\"][\"value\"],\n",
    "            what: entry[\"surnameLabel\"][\"value\"],\n",
    "            \"count\": entry[\"count\"][\"value\"],\n",
    "        }\n",
    "        for entry in surnames_resp[\"results\"][\"bindings\"]\n",
    "        if re.match(ur\"^[А-Яа-яЁё-]+$\", entry[\"surnameLabel\"][\"value\"])\n",
    "    ])"
   ]
  },
  {
   "cell_type": "code",
   "execution_count": 70,
   "metadata": {
    "collapsed": false
   },
   "outputs": [],
   "source": [
    "def load_surnames():\n",
    "    return unpack_values(load_wikidata(\"P734\"), \"surname\")\n",
    "\n",
    "def load_names():\n",
    "    return unpack_values(load_wikidata(\"P735\"), \"name\")"
   ]
  },
  {
   "cell_type": "code",
   "execution_count": 122,
   "metadata": {
    "collapsed": false
   },
   "outputs": [],
   "source": [
    "surnames = load_surnames()\n",
    "surnames.surname = surnames.surname.str.lower().str.replace(\"ё\", \"е\")"
   ]
  },
  {
   "cell_type": "code",
   "execution_count": 132,
   "metadata": {
    "collapsed": false
   },
   "outputs": [
    {
     "data": {
      "text/html": [
       "<div>\n",
       "<table border=\"1\" class=\"dataframe\">\n",
       "  <thead>\n",
       "    <tr style=\"text-align: right;\">\n",
       "      <th></th>\n",
       "      <th>count</th>\n",
       "      <th>surname</th>\n",
       "      <th>uri</th>\n",
       "    </tr>\n",
       "  </thead>\n",
       "  <tbody>\n",
       "    <tr>\n",
       "      <th>342</th>\n",
       "      <td>47</td>\n",
       "      <td>филипп</td>\n",
       "      <td>http://www.wikidata.org/entity/Q18070769</td>\n",
       "    </tr>\n",
       "    <tr>\n",
       "      <th>913</th>\n",
       "      <td>3</td>\n",
       "      <td>бокк</td>\n",
       "      <td>http://www.wikidata.org/entity/Q889117</td>\n",
       "    </tr>\n",
       "    <tr>\n",
       "      <th>258</th>\n",
       "      <td>83</td>\n",
       "      <td>дженкинс</td>\n",
       "      <td>http://www.wikidata.org/entity/Q170455</td>\n",
       "    </tr>\n",
       "    <tr>\n",
       "      <th>1699</th>\n",
       "      <td>1</td>\n",
       "      <td>хагеманн</td>\n",
       "      <td>http://www.wikidata.org/entity/Q1568341</td>\n",
       "    </tr>\n",
       "    <tr>\n",
       "      <th>2347</th>\n",
       "      <td>1</td>\n",
       "      <td>абельская</td>\n",
       "      <td>http://www.wikidata.org/entity/Q25119316</td>\n",
       "    </tr>\n",
       "    <tr>\n",
       "      <th>675</th>\n",
       "      <td>7</td>\n",
       "      <td>кэррадайн</td>\n",
       "      <td>http://www.wikidata.org/entity/Q21482744</td>\n",
       "    </tr>\n",
       "    <tr>\n",
       "      <th>724</th>\n",
       "      <td>6</td>\n",
       "      <td>аксель</td>\n",
       "      <td>http://www.wikidata.org/entity/Q18404247</td>\n",
       "    </tr>\n",
       "    <tr>\n",
       "      <th>1598</th>\n",
       "      <td>1</td>\n",
       "      <td>дегенкольб</td>\n",
       "      <td>http://www.wikidata.org/entity/Q1182849</td>\n",
       "    </tr>\n",
       "    <tr>\n",
       "      <th>1449</th>\n",
       "      <td>1</td>\n",
       "      <td>мандельштам</td>\n",
       "      <td>http://www.wikidata.org/entity/Q682519</td>\n",
       "    </tr>\n",
       "    <tr>\n",
       "      <th>531</th>\n",
       "      <td>13</td>\n",
       "      <td>янагита</td>\n",
       "      <td>http://www.wikidata.org/entity/Q8048230</td>\n",
       "    </tr>\n",
       "    <tr>\n",
       "      <th>171</th>\n",
       "      <td>160</td>\n",
       "      <td>козлов</td>\n",
       "      <td>http://www.wikidata.org/entity/Q4226805</td>\n",
       "    </tr>\n",
       "    <tr>\n",
       "      <th>1984</th>\n",
       "      <td>1</td>\n",
       "      <td>равинский</td>\n",
       "      <td>http://www.wikidata.org/entity/Q4386918</td>\n",
       "    </tr>\n",
       "    <tr>\n",
       "      <th>418</th>\n",
       "      <td>24</td>\n",
       "      <td>линн</td>\n",
       "      <td>http://www.wikidata.org/entity/Q12189873</td>\n",
       "    </tr>\n",
       "    <tr>\n",
       "      <th>134</th>\n",
       "      <td>219</td>\n",
       "      <td>накагава</td>\n",
       "      <td>http://www.wikidata.org/entity/Q16877751</td>\n",
       "    </tr>\n",
       "    <tr>\n",
       "      <th>1838</th>\n",
       "      <td>1</td>\n",
       "      <td>фогелер</td>\n",
       "      <td>http://www.wikidata.org/entity/Q2529945</td>\n",
       "    </tr>\n",
       "  </tbody>\n",
       "</table>\n",
       "</div>"
      ],
      "text/plain": [
       "     count      surname                                       uri\n",
       "342     47       филипп  http://www.wikidata.org/entity/Q18070769\n",
       "913      3         бокк    http://www.wikidata.org/entity/Q889117\n",
       "258     83     дженкинс    http://www.wikidata.org/entity/Q170455\n",
       "1699     1     хагеманн   http://www.wikidata.org/entity/Q1568341\n",
       "2347     1    абельская  http://www.wikidata.org/entity/Q25119316\n",
       "675      7    кэррадайн  http://www.wikidata.org/entity/Q21482744\n",
       "724      6       аксель  http://www.wikidata.org/entity/Q18404247\n",
       "1598     1   дегенкольб   http://www.wikidata.org/entity/Q1182849\n",
       "1449     1  мандельштам    http://www.wikidata.org/entity/Q682519\n",
       "531     13      янагита   http://www.wikidata.org/entity/Q8048230\n",
       "171    160       козлов   http://www.wikidata.org/entity/Q4226805\n",
       "1984     1    равинский   http://www.wikidata.org/entity/Q4386918\n",
       "418     24         линн  http://www.wikidata.org/entity/Q12189873\n",
       "134    219     накагава  http://www.wikidata.org/entity/Q16877751\n",
       "1838     1      фогелер   http://www.wikidata.org/entity/Q2529945"
      ]
     },
     "execution_count": 132,
     "metadata": {},
     "output_type": "execute_result"
    }
   ],
   "source": [
    "surnames.sample(15)"
   ]
  },
  {
   "cell_type": "code",
   "execution_count": 77,
   "metadata": {
    "collapsed": false,
    "scrolled": true
   },
   "outputs": [
    {
     "ename": "EndPointInternalError",
     "evalue": "EndPointInternalError: endpoint returned code 500 and response. \n\nResponse:\nSPARQL-QUERY: queryStr=\nPREFIX wd: <http://www.wikidata.org/entity/>\nPREFIX wdt: <http://www.wikidata.org/prop/direct/>\n\nSELECT ?surname ?surnameLabel ?count\nWHERE\n{\n  {\n    SELECT ?surname (COUNT(?person) AS ?count) WHERE {\n      ?person wdt:P31 wd:Q5.\n      ?person wdt:P735 ?surname.\n    }\n    GROUP BY ?surname\n  }\n  SERVICE wikibase:label { bd:serviceParam wikibase:language \"ru\". }\n}\nORDER BY DESC(?count)\nLIMIT 100\n    \njava.util.concurrent.ExecutionException: java.util.concurrent.ExecutionException: org.openrdf.query.QueryInterruptedException: java.lang.RuntimeException: java.util.concurrent.ExecutionException: java.lang.RuntimeException: java.util.concurrent.ExecutionException: com.bigdata.bop.engine.QueryTimeoutException: Query deadline is expired.\n\tat java.util.concurrent.FutureTask.report(FutureTask.java:122)\n\tat java.util.concurrent.FutureTask.get(FutureTask.java:192)\n\tat com.bigdata.rdf.sail.webapp.BigdataServlet.submitApiTask(BigdataServlet.java:281)\n\tat com.bigdata.rdf.sail.webapp.QueryServlet.doSparqlQuery(QueryServlet.java:653)\n\tat com.bigdata.rdf.sail.webapp.QueryServlet.doGet(QueryServlet.java:288)\n\tat com.bigdata.rdf.sail.webapp.RESTServlet.doGet(RESTServlet.java:240)\n\tat com.bigdata.rdf.sail.webapp.MultiTenancyServlet.doGet(MultiTenancyServlet.java:271)\n\tat javax.servlet.http.HttpServlet.service(HttpServlet.java:687)\n\tat javax.servlet.http.HttpServlet.service(HttpServlet.java:790)\n\tat org.eclipse.jetty.servlet.ServletHolder.handle(ServletHolder.java:808)\n\tat org.eclipse.jetty.servlet.ServletHandler.doHandle(ServletHandler.java:587)\n\tat org.eclipse.jetty.server.handler.ScopedHandler.handle(ScopedHandler.java:143)\n\tat org.eclipse.jetty.security.SecurityHandler.handle(SecurityHandler.java:577)\n\tat org.eclipse.jetty.server.session.SessionHandler.doHandle(SessionHandler.java:223)\n\tat org.eclipse.jetty.server.handler.ContextHandler.doHandle(ContextHandler.java:1127)\n\tat org.eclipse.jetty.servlet.ServletHandler.doScope(ServletHandler.java:515)\n\tat org.eclipse.jetty.server.session.SessionHandler.doScope(SessionHandler.java:185)\n\tat org.eclipse.jetty.server.handler.ContextHandler.doScope(ContextHandler.java:1061)\n\tat org.eclipse.jetty.server.handler.ScopedHandler.handle(ScopedHandler.java:141)\n\tat org.eclipse.jetty.server.handler.ContextHandlerCollection.handle(ContextHandlerCollection.java:215)\n\tat org.eclipse.jetty.server.handler.HandlerCollection.handle(HandlerCollection.java:110)\n\tat org.eclipse.jetty.server.handler.HandlerWrapper.handle(HandlerWrapper.java:97)\n\tat org.eclipse.jetty.server.Server.handle(Server.java:497)\n\tat org.eclipse.jetty.server.HttpChannel.handle(HttpChannel.java:310)\n\tat org.eclipse.jetty.server.HttpConnection.onFillable(HttpConnection.java:257)\n\tat org.eclipse.jetty.io.AbstractConnection$2.run(AbstractConnection.java:540)\n\tat org.eclipse.jetty.util.thread.QueuedThreadPool.runJob(QueuedThreadPool.java:635)\n\tat org.eclipse.jetty.util.thread.QueuedThreadPool$3.run(QueuedThreadPool.java:555)\n\tat java.lang.Thread.run(Thread.java:745)\nCaused by: java.util.concurrent.ExecutionException: org.openrdf.query.QueryInterruptedException: java.lang.RuntimeException: java.util.concurrent.ExecutionException: java.lang.RuntimeException: java.util.concurrent.ExecutionException: com.bigdata.bop.engine.QueryTimeoutException: Query deadline is expired.\n\tat java.util.concurrent.FutureTask.report(FutureTask.java:122)\n\tat java.util.concurrent.FutureTask.get(FutureTask.java:192)\n\tat com.bigdata.rdf.sail.webapp.QueryServlet$SparqlQueryTask.call(QueryServlet.java:864)\n\tat com.bigdata.rdf.sail.webapp.QueryServlet$SparqlQueryTask.call(QueryServlet.java:670)\n\tat com.bigdata.rdf.task.ApiTaskForIndexManager.call(ApiTaskForIndexManager.java:68)\n\tat java.util.concurrent.FutureTask.run(FutureTask.java:266)\n\tat java.util.concurrent.ThreadPoolExecutor.runWorker(ThreadPoolExecutor.java:1142)\n\tat java.util.concurrent.ThreadPoolExecutor$Worker.run(ThreadPoolExecutor.java:617)\n\t... 1 more\nCaused by: org.openrdf.query.QueryInterruptedException: java.lang.RuntimeException: java.util.concurrent.ExecutionException: java.lang.RuntimeException: java.util.concurrent.ExecutionException: com.bigdata.bop.engine.QueryTimeoutException: Query deadline is expired.\n\tat com.bigdata.rdf.sail.Bigdata2Sesame2BindingSetIterator.hasNext(Bigdata2Sesame2BindingSetIterator.java:184)\n\tat info.aduna.iteration.IterationWrapper.hasNext(IterationWrapper.java:68)\n\tat org.openrdf.query.QueryResults.report(QueryResults.java:155)\n\tat org.openrdf.repository.sail.SailTupleQuery.evaluate(SailTupleQuery.java:76)\n\tat com.bigdata.rdf.sail.webapp.BigdataRDFContext$TupleQueryTask.doQuery(BigdataRDFContext.java:1713)\n\tat com.bigdata.rdf.sail.webapp.BigdataRDFContext$AbstractQueryTask.innerCall(BigdataRDFContext.java:1569)\n\tat com.bigdata.rdf.sail.webapp.BigdataRDFContext$AbstractQueryTask.call(BigdataRDFContext.java:1534)\n\tat com.bigdata.rdf.sail.webapp.BigdataRDFContext$AbstractQueryTask.call(BigdataRDFContext.java:747)\n\t... 4 more\nCaused by: java.lang.RuntimeException: java.util.concurrent.ExecutionException: java.lang.RuntimeException: java.util.concurrent.ExecutionException: com.bigdata.bop.engine.QueryTimeoutException: Query deadline is expired.\n\tat com.bigdata.relation.accesspath.BlockingBuffer$BlockingIterator.checkFuture(BlockingBuffer.java:1484)\n\tat com.bigdata.relation.accesspath.BlockingBuffer$BlockingIterator._hasNext(BlockingBuffer.java:1710)\n\tat com.bigdata.relation.accesspath.BlockingBuffer$BlockingIterator.hasNext(BlockingBuffer.java:1563)\n\tat com.bigdata.striterator.AbstractChunkedResolverator._hasNext(AbstractChunkedResolverator.java:365)\n\tat com.bigdata.striterator.AbstractChunkedResolverator.hasNext(AbstractChunkedResolverator.java:341)\n\tat com.bigdata.rdf.sail.Bigdata2Sesame2BindingSetIterator.hasNext(Bigdata2Sesame2BindingSetIterator.java:134)\n\t... 11 more\nCaused by: java.util.concurrent.ExecutionException: java.lang.RuntimeException: java.util.concurrent.ExecutionException: com.bigdata.bop.engine.QueryTimeoutException: Query deadline is expired.\n\tat java.util.concurrent.FutureTask.report(FutureTask.java:122)\n\tat java.util.concurrent.FutureTask.get(FutureTask.java:192)\n\tat com.bigdata.relation.accesspath.BlockingBuffer$BlockingIterator.checkFuture(BlockingBuffer.java:1454)\n\t... 16 more\nCaused by: java.lang.RuntimeException: java.util.concurrent.ExecutionException: com.bigdata.bop.engine.QueryTimeoutException: Query deadline is expired.\n\tat com.bigdata.rdf.sail.RunningQueryCloseableIterator.checkFuture(RunningQueryCloseableIterator.java:59)\n\tat com.bigdata.rdf.sail.RunningQueryCloseableIterator.close(RunningQueryCloseableIterator.java:73)\n\tat com.bigdata.rdf.sail.RunningQueryCloseableIterator.hasNext(RunningQueryCloseableIterator.java:82)\n\tat com.bigdata.striterator.ChunkedWrappedIterator.hasNext(ChunkedWrappedIterator.java:197)\n\tat com.bigdata.striterator.AbstractChunkedResolverator$ChunkConsumerTask.call(AbstractChunkedResolverator.java:222)\n\tat com.bigdata.striterator.AbstractChunkedResolverator$ChunkConsumerTask.call(AbstractChunkedResolverator.java:197)\n\t... 4 more\nCaused by: java.util.concurrent.ExecutionException: com.bigdata.bop.engine.QueryTimeoutException: Query deadline is expired.\n\tat com.bigdata.util.concurrent.Haltable.get(Haltable.java:273)\n\tat com.bigdata.bop.engine.AbstractRunningQuery.get(AbstractRunningQuery.java:1516)\n\tat com.bigdata.bop.engine.AbstractRunningQuery.get(AbstractRunningQuery.java:104)\n\tat com.bigdata.rdf.sail.RunningQueryCloseableIterator.checkFuture(RunningQueryCloseableIterator.java:46)\n\t... 9 more\nCaused by: com.bigdata.bop.engine.QueryTimeoutException: Query deadline is expired.\n\tat com.bigdata.bop.engine.RunState.checkDeadline(RunState.java:832)\n\tat com.bigdata.bop.engine.AbstractRunningQuery.checkDeadline(AbstractRunningQuery.java:376)\n\tat com.bigdata.bop.engine.QueryDeadline.checkDeadline(QueryDeadline.java:99)\n\tat com.bigdata.bop.engine.QueryEngine.checkHeadOfDeadlineQueue(QueryEngine.java:846)\n\tat com.bigdata.bop.engine.QueryEngine.checkDeadlines(QueryEngine.java:817)\n\tat com.bigdata.bop.engine.QueryEngine.access$100(QueryEngine.java:212)\n\tat com.bigdata.bop.engine.QueryEngine$QueryEngineTask.run(QueryEngine.java:1088)\n\tat java.util.concurrent.Executors$RunnableAdapter.call(Executors.java:511)\n\tat java.util.concurrent.FutureTask.run(FutureTask.java:266)\n\tat com.bigdata.concurrent.FutureTaskMon.run(FutureTaskMon.java:63)\n\t... 3 more\n",
     "output_type": "error",
     "traceback": [
      "\u001b[0;31m---------------------------------------------------------------------------\u001b[0m",
      "\u001b[0;31mEndPointInternalError\u001b[0m                     Traceback (most recent call last)",
      "\u001b[0;32m<ipython-input-77-bb8fe9aea526>\u001b[0m in \u001b[0;36m<module>\u001b[0;34m()\u001b[0m\n\u001b[0;32m----> 1\u001b[0;31m \u001b[0mload_names\u001b[0m\u001b[0;34m(\u001b[0m\u001b[0;34m)\u001b[0m\u001b[0;34m\u001b[0m\u001b[0m\n\u001b[0m",
      "\u001b[0;32m<ipython-input-70-1dae56256254>\u001b[0m in \u001b[0;36mload_names\u001b[0;34m()\u001b[0m\n\u001b[1;32m      3\u001b[0m \u001b[0;34m\u001b[0m\u001b[0m\n\u001b[1;32m      4\u001b[0m \u001b[0;32mdef\u001b[0m \u001b[0mload_names\u001b[0m\u001b[0;34m(\u001b[0m\u001b[0;34m)\u001b[0m\u001b[0;34m:\u001b[0m\u001b[0;34m\u001b[0m\u001b[0m\n\u001b[0;32m----> 5\u001b[0;31m     \u001b[0;32mreturn\u001b[0m \u001b[0munpack_values\u001b[0m\u001b[0;34m(\u001b[0m\u001b[0mload_wikidata\u001b[0m\u001b[0;34m(\u001b[0m\u001b[0;34m\"P735\"\u001b[0m\u001b[0;34m)\u001b[0m\u001b[0;34m,\u001b[0m \u001b[0;34m\"name\"\u001b[0m\u001b[0;34m)\u001b[0m\u001b[0;34m\u001b[0m\u001b[0m\n\u001b[0m",
      "\u001b[0;32m<ipython-input-76-6fe74fecb8b4>\u001b[0m in \u001b[0;36mload_wikidata\u001b[0;34m(prop)\u001b[0m\n\u001b[1;32m     23\u001b[0m \u001b[0;34m\u001b[0m\u001b[0m\n\u001b[1;32m     24\u001b[0m     \u001b[0msparql\u001b[0m\u001b[0;34m.\u001b[0m\u001b[0msetReturnFormat\u001b[0m\u001b[0;34m(\u001b[0m\u001b[0mSPARQLWrapper\u001b[0m\u001b[0;34m.\u001b[0m\u001b[0mJSON\u001b[0m\u001b[0;34m)\u001b[0m\u001b[0;34m\u001b[0m\u001b[0m\n\u001b[0;32m---> 25\u001b[0;31m     \u001b[0mresp\u001b[0m \u001b[0;34m=\u001b[0m \u001b[0msparql\u001b[0m\u001b[0;34m.\u001b[0m\u001b[0mquery\u001b[0m\u001b[0;34m(\u001b[0m\u001b[0;34m)\u001b[0m\u001b[0;34m.\u001b[0m\u001b[0mconvert\u001b[0m\u001b[0;34m(\u001b[0m\u001b[0;34m)\u001b[0m\u001b[0;34m\u001b[0m\u001b[0m\n\u001b[0m\u001b[1;32m     26\u001b[0m \u001b[0;34m\u001b[0m\u001b[0m\n\u001b[1;32m     27\u001b[0m \u001b[0;32mdef\u001b[0m \u001b[0munpack_values\u001b[0m\u001b[0;34m(\u001b[0m\u001b[0mwd_resp\u001b[0m\u001b[0;34m,\u001b[0m \u001b[0mwhat\u001b[0m\u001b[0;34m)\u001b[0m\u001b[0;34m:\u001b[0m\u001b[0;34m\u001b[0m\u001b[0m\n",
      "\u001b[0;32m/usr/local/lib/python2.7/dist-packages/SPARQLWrapper/Wrapper.pyc\u001b[0m in \u001b[0;36mquery\u001b[0;34m(self)\u001b[0m\n\u001b[1;32m    599\u001b[0m             \u001b[0;34m@\u001b[0m\u001b[0mrtype\u001b[0m\u001b[0;34m:\u001b[0m \u001b[0mL\u001b[0m\u001b[0;34m{\u001b[0m\u001b[0mQueryResult\u001b[0m\u001b[0;34m}\u001b[0m \u001b[0minstance\u001b[0m\u001b[0;34m\u001b[0m\u001b[0m\n\u001b[1;32m    600\u001b[0m         \"\"\"\n\u001b[0;32m--> 601\u001b[0;31m         \u001b[0;32mreturn\u001b[0m \u001b[0mQueryResult\u001b[0m\u001b[0;34m(\u001b[0m\u001b[0mself\u001b[0m\u001b[0;34m.\u001b[0m\u001b[0m_query\u001b[0m\u001b[0;34m(\u001b[0m\u001b[0;34m)\u001b[0m\u001b[0;34m)\u001b[0m\u001b[0;34m\u001b[0m\u001b[0m\n\u001b[0m\u001b[1;32m    602\u001b[0m \u001b[0;34m\u001b[0m\u001b[0m\n\u001b[1;32m    603\u001b[0m     \u001b[0;32mdef\u001b[0m \u001b[0mqueryAndConvert\u001b[0m\u001b[0;34m(\u001b[0m\u001b[0mself\u001b[0m\u001b[0;34m)\u001b[0m\u001b[0;34m:\u001b[0m\u001b[0;34m\u001b[0m\u001b[0m\n",
      "\u001b[0;32m/usr/local/lib/python2.7/dist-packages/SPARQLWrapper/Wrapper.pyc\u001b[0m in \u001b[0;36m_query\u001b[0;34m(self)\u001b[0m\n\u001b[1;32m    577\u001b[0m                 \u001b[0;32mraise\u001b[0m \u001b[0mEndPointNotFound\u001b[0m\u001b[0;34m(\u001b[0m\u001b[0me\u001b[0m\u001b[0;34m.\u001b[0m\u001b[0mread\u001b[0m\u001b[0;34m(\u001b[0m\u001b[0;34m)\u001b[0m\u001b[0;34m)\u001b[0m\u001b[0;34m\u001b[0m\u001b[0m\n\u001b[1;32m    578\u001b[0m             \u001b[0;32melif\u001b[0m \u001b[0me\u001b[0m\u001b[0;34m.\u001b[0m\u001b[0mcode\u001b[0m \u001b[0;34m==\u001b[0m \u001b[0;36m500\u001b[0m\u001b[0;34m:\u001b[0m\u001b[0;34m\u001b[0m\u001b[0m\n\u001b[0;32m--> 579\u001b[0;31m                 \u001b[0;32mraise\u001b[0m \u001b[0mEndPointInternalError\u001b[0m\u001b[0;34m(\u001b[0m\u001b[0me\u001b[0m\u001b[0;34m.\u001b[0m\u001b[0mread\u001b[0m\u001b[0;34m(\u001b[0m\u001b[0;34m)\u001b[0m\u001b[0;34m)\u001b[0m\u001b[0;34m\u001b[0m\u001b[0m\n\u001b[0m\u001b[1;32m    580\u001b[0m             \u001b[0;32melse\u001b[0m\u001b[0;34m:\u001b[0m\u001b[0;34m\u001b[0m\u001b[0m\n\u001b[1;32m    581\u001b[0m                 \u001b[0;32mraise\u001b[0m \u001b[0me\u001b[0m\u001b[0;34m\u001b[0m\u001b[0m\n",
      "\u001b[0;31mEndPointInternalError\u001b[0m: EndPointInternalError: endpoint returned code 500 and response. \n\nResponse:\nSPARQL-QUERY: queryStr=\nPREFIX wd: <http://www.wikidata.org/entity/>\nPREFIX wdt: <http://www.wikidata.org/prop/direct/>\n\nSELECT ?surname ?surnameLabel ?count\nWHERE\n{\n  {\n    SELECT ?surname (COUNT(?person) AS ?count) WHERE {\n      ?person wdt:P31 wd:Q5.\n      ?person wdt:P735 ?surname.\n    }\n    GROUP BY ?surname\n  }\n  SERVICE wikibase:label { bd:serviceParam wikibase:language \"ru\". }\n}\nORDER BY DESC(?count)\nLIMIT 100\n    \njava.util.concurrent.ExecutionException: java.util.concurrent.ExecutionException: org.openrdf.query.QueryInterruptedException: java.lang.RuntimeException: java.util.concurrent.ExecutionException: java.lang.RuntimeException: java.util.concurrent.ExecutionException: com.bigdata.bop.engine.QueryTimeoutException: Query deadline is expired.\n\tat java.util.concurrent.FutureTask.report(FutureTask.java:122)\n\tat java.util.concurrent.FutureTask.get(FutureTask.java:192)\n\tat com.bigdata.rdf.sail.webapp.BigdataServlet.submitApiTask(BigdataServlet.java:281)\n\tat com.bigdata.rdf.sail.webapp.QueryServlet.doSparqlQuery(QueryServlet.java:653)\n\tat com.bigdata.rdf.sail.webapp.QueryServlet.doGet(QueryServlet.java:288)\n\tat com.bigdata.rdf.sail.webapp.RESTServlet.doGet(RESTServlet.java:240)\n\tat com.bigdata.rdf.sail.webapp.MultiTenancyServlet.doGet(MultiTenancyServlet.java:271)\n\tat javax.servlet.http.HttpServlet.service(HttpServlet.java:687)\n\tat javax.servlet.http.HttpServlet.service(HttpServlet.java:790)\n\tat org.eclipse.jetty.servlet.ServletHolder.handle(ServletHolder.java:808)\n\tat org.eclipse.jetty.servlet.ServletHandler.doHandle(ServletHandler.java:587)\n\tat org.eclipse.jetty.server.handler.ScopedHandler.handle(ScopedHandler.java:143)\n\tat org.eclipse.jetty.security.SecurityHandler.handle(SecurityHandler.java:577)\n\tat org.eclipse.jetty.server.session.SessionHandler.doHandle(SessionHandler.java:223)\n\tat org.eclipse.jetty.server.handler.ContextHandler.doHandle(ContextHandler.java:1127)\n\tat org.eclipse.jetty.servlet.ServletHandler.doScope(ServletHandler.java:515)\n\tat org.eclipse.jetty.server.session.SessionHandler.doScope(SessionHandler.java:185)\n\tat org.eclipse.jetty.server.handler.ContextHandler.doScope(ContextHandler.java:1061)\n\tat org.eclipse.jetty.server.handler.ScopedHandler.handle(ScopedHandler.java:141)\n\tat org.eclipse.jetty.server.handler.ContextHandlerCollection.handle(ContextHandlerCollection.java:215)\n\tat org.eclipse.jetty.server.handler.HandlerCollection.handle(HandlerCollection.java:110)\n\tat org.eclipse.jetty.server.handler.HandlerWrapper.handle(HandlerWrapper.java:97)\n\tat org.eclipse.jetty.server.Server.handle(Server.java:497)\n\tat org.eclipse.jetty.server.HttpChannel.handle(HttpChannel.java:310)\n\tat org.eclipse.jetty.server.HttpConnection.onFillable(HttpConnection.java:257)\n\tat org.eclipse.jetty.io.AbstractConnection$2.run(AbstractConnection.java:540)\n\tat org.eclipse.jetty.util.thread.QueuedThreadPool.runJob(QueuedThreadPool.java:635)\n\tat org.eclipse.jetty.util.thread.QueuedThreadPool$3.run(QueuedThreadPool.java:555)\n\tat java.lang.Thread.run(Thread.java:745)\nCaused by: java.util.concurrent.ExecutionException: org.openrdf.query.QueryInterruptedException: java.lang.RuntimeException: java.util.concurrent.ExecutionException: java.lang.RuntimeException: java.util.concurrent.ExecutionException: com.bigdata.bop.engine.QueryTimeoutException: Query deadline is expired.\n\tat java.util.concurrent.FutureTask.report(FutureTask.java:122)\n\tat java.util.concurrent.FutureTask.get(FutureTask.java:192)\n\tat com.bigdata.rdf.sail.webapp.QueryServlet$SparqlQueryTask.call(QueryServlet.java:864)\n\tat com.bigdata.rdf.sail.webapp.QueryServlet$SparqlQueryTask.call(QueryServlet.java:670)\n\tat com.bigdata.rdf.task.ApiTaskForIndexManager.call(ApiTaskForIndexManager.java:68)\n\tat java.util.concurrent.FutureTask.run(FutureTask.java:266)\n\tat java.util.concurrent.ThreadPoolExecutor.runWorker(ThreadPoolExecutor.java:1142)\n\tat java.util.concurrent.ThreadPoolExecutor$Worker.run(ThreadPoolExecutor.java:617)\n\t... 1 more\nCaused by: org.openrdf.query.QueryInterruptedException: java.lang.RuntimeException: java.util.concurrent.ExecutionException: java.lang.RuntimeException: java.util.concurrent.ExecutionException: com.bigdata.bop.engine.QueryTimeoutException: Query deadline is expired.\n\tat com.bigdata.rdf.sail.Bigdata2Sesame2BindingSetIterator.hasNext(Bigdata2Sesame2BindingSetIterator.java:184)\n\tat info.aduna.iteration.IterationWrapper.hasNext(IterationWrapper.java:68)\n\tat org.openrdf.query.QueryResults.report(QueryResults.java:155)\n\tat org.openrdf.repository.sail.SailTupleQuery.evaluate(SailTupleQuery.java:76)\n\tat com.bigdata.rdf.sail.webapp.BigdataRDFContext$TupleQueryTask.doQuery(BigdataRDFContext.java:1713)\n\tat com.bigdata.rdf.sail.webapp.BigdataRDFContext$AbstractQueryTask.innerCall(BigdataRDFContext.java:1569)\n\tat com.bigdata.rdf.sail.webapp.BigdataRDFContext$AbstractQueryTask.call(BigdataRDFContext.java:1534)\n\tat com.bigdata.rdf.sail.webapp.BigdataRDFContext$AbstractQueryTask.call(BigdataRDFContext.java:747)\n\t... 4 more\nCaused by: java.lang.RuntimeException: java.util.concurrent.ExecutionException: java.lang.RuntimeException: java.util.concurrent.ExecutionException: com.bigdata.bop.engine.QueryTimeoutException: Query deadline is expired.\n\tat com.bigdata.relation.accesspath.BlockingBuffer$BlockingIterator.checkFuture(BlockingBuffer.java:1484)\n\tat com.bigdata.relation.accesspath.BlockingBuffer$BlockingIterator._hasNext(BlockingBuffer.java:1710)\n\tat com.bigdata.relation.accesspath.BlockingBuffer$BlockingIterator.hasNext(BlockingBuffer.java:1563)\n\tat com.bigdata.striterator.AbstractChunkedResolverator._hasNext(AbstractChunkedResolverator.java:365)\n\tat com.bigdata.striterator.AbstractChunkedResolverator.hasNext(AbstractChunkedResolverator.java:341)\n\tat com.bigdata.rdf.sail.Bigdata2Sesame2BindingSetIterator.hasNext(Bigdata2Sesame2BindingSetIterator.java:134)\n\t... 11 more\nCaused by: java.util.concurrent.ExecutionException: java.lang.RuntimeException: java.util.concurrent.ExecutionException: com.bigdata.bop.engine.QueryTimeoutException: Query deadline is expired.\n\tat java.util.concurrent.FutureTask.report(FutureTask.java:122)\n\tat java.util.concurrent.FutureTask.get(FutureTask.java:192)\n\tat com.bigdata.relation.accesspath.BlockingBuffer$BlockingIterator.checkFuture(BlockingBuffer.java:1454)\n\t... 16 more\nCaused by: java.lang.RuntimeException: java.util.concurrent.ExecutionException: com.bigdata.bop.engine.QueryTimeoutException: Query deadline is expired.\n\tat com.bigdata.rdf.sail.RunningQueryCloseableIterator.checkFuture(RunningQueryCloseableIterator.java:59)\n\tat com.bigdata.rdf.sail.RunningQueryCloseableIterator.close(RunningQueryCloseableIterator.java:73)\n\tat com.bigdata.rdf.sail.RunningQueryCloseableIterator.hasNext(RunningQueryCloseableIterator.java:82)\n\tat com.bigdata.striterator.ChunkedWrappedIterator.hasNext(ChunkedWrappedIterator.java:197)\n\tat com.bigdata.striterator.AbstractChunkedResolverator$ChunkConsumerTask.call(AbstractChunkedResolverator.java:222)\n\tat com.bigdata.striterator.AbstractChunkedResolverator$ChunkConsumerTask.call(AbstractChunkedResolverator.java:197)\n\t... 4 more\nCaused by: java.util.concurrent.ExecutionException: com.bigdata.bop.engine.QueryTimeoutException: Query deadline is expired.\n\tat com.bigdata.util.concurrent.Haltable.get(Haltable.java:273)\n\tat com.bigdata.bop.engine.AbstractRunningQuery.get(AbstractRunningQuery.java:1516)\n\tat com.bigdata.bop.engine.AbstractRunningQuery.get(AbstractRunningQuery.java:104)\n\tat com.bigdata.rdf.sail.RunningQueryCloseableIterator.checkFuture(RunningQueryCloseableIterator.java:46)\n\t... 9 more\nCaused by: com.bigdata.bop.engine.QueryTimeoutException: Query deadline is expired.\n\tat com.bigdata.bop.engine.RunState.checkDeadline(RunState.java:832)\n\tat com.bigdata.bop.engine.AbstractRunningQuery.checkDeadline(AbstractRunningQuery.java:376)\n\tat com.bigdata.bop.engine.QueryDeadline.checkDeadline(QueryDeadline.java:99)\n\tat com.bigdata.bop.engine.QueryEngine.checkHeadOfDeadlineQueue(QueryEngine.java:846)\n\tat com.bigdata.bop.engine.QueryEngine.checkDeadlines(QueryEngine.java:817)\n\tat com.bigdata.bop.engine.QueryEngine.access$100(QueryEngine.java:212)\n\tat com.bigdata.bop.engine.QueryEngine$QueryEngineTask.run(QueryEngine.java:1088)\n\tat java.util.concurrent.Executors$RunnableAdapter.call(Executors.java:511)\n\tat java.util.concurrent.FutureTask.run(FutureTask.java:266)\n\tat com.bigdata.concurrent.FutureTaskMon.run(FutureTaskMon.java:63)\n\t... 3 more\n"
     ]
    }
   ],
   "source": [
    "load_names()"
   ]
  },
  {
   "cell_type": "markdown",
   "metadata": {},
   "source": [
    "## Горы и реки"
   ]
  },
  {
   "cell_type": "code",
   "execution_count": 133,
   "metadata": {
    "collapsed": true
   },
   "outputs": [],
   "source": [
    "import overpy\n",
    "op = overpy.Overpass()"
   ]
  },
  {
   "cell_type": "code",
   "execution_count": 134,
   "metadata": {
    "collapsed": false
   },
   "outputs": [],
   "source": [
    "# http://gis.stackexchange.com/questions/178424/overpass-turbo-area-code-lookup\n",
    "AREA = \"3600060189\"  # Russia"
   ]
  },
  {
   "cell_type": "code",
   "execution_count": 225,
   "metadata": {
    "collapsed": false
   },
   "outputs": [],
   "source": [
    "r = op.query('''\n",
    "area({})->.searchArea;\n",
    "(\n",
    "    node\n",
    "    [\"name\"][\"natural\"~\"peak|volcano|ridge\"]\n",
    "    (area.searchArea);\n",
    ");\n",
    "out;\n",
    "'''.format(AREA))"
   ]
  },
  {
   "cell_type": "code",
   "execution_count": 226,
   "metadata": {
    "collapsed": false
   },
   "outputs": [],
   "source": [
    "import cPickle\n",
    "with open('naturals_ru.pcl', 'wb') as pcl:\n",
    "    cPickle.dump(r, pcl)"
   ]
  },
  {
   "cell_type": "markdown",
   "metadata": {},
   "source": [
    "## загрузка данных"
   ]
  },
  {
   "cell_type": "code",
   "execution_count": 15,
   "metadata": {
    "collapsed": false
   },
   "outputs": [],
   "source": [
    "import cPickle\n",
    "with open('naturals_ru.pcl', 'rb') as pcl:\n",
    "    r = cPickle.load(pcl)"
   ]
  },
  {
   "cell_type": "code",
   "execution_count": 227,
   "metadata": {
    "collapsed": false,
    "scrolled": true
   },
   "outputs": [
    {
     "data": {
      "text/plain": [
       "{'ele': '1545',\n",
       " 'name': u'\\u0420\\u043e\\u043c\\u0430\\u043d-\\u041a\\u043e\\u0448',\n",
       " 'name:de': 'Roman Kosch',\n",
       " 'name:en': 'Roman Kosh',\n",
       " 'name:eo': u'Romanko\\u015do',\n",
       " 'name:pl': 'Roman-Kosz',\n",
       " 'natural': 'peak',\n",
       " 'summit:cross': 'yes',\n",
       " 'wikipedia': u'ru:\\u0420\\u043e\\u043c\\u0430\\u043d-\\u041a\\u043e\\u0448'}"
      ]
     },
     "execution_count": 227,
     "metadata": {},
     "output_type": "execute_result"
    }
   ],
   "source": [
    "r.nodes[0].tags"
   ]
  },
  {
   "cell_type": "code",
   "execution_count": 162,
   "metadata": {
    "collapsed": true
   },
   "outputs": [],
   "source": [
    "def cut_prefix(prefix, line=None):\n",
    "    def cutter(line):\n",
    "        if line.startswith(prefix):\n",
    "            return line[len(prefix):]\n",
    "        return line\n",
    "    return cutter if line is None else cutter(line)\n",
    "\n",
    "def cut_suffix(prefix, line=None):\n",
    "    def cutter(line):\n",
    "        if line.endswith(prefix):\n",
    "            return line[:len(prefix)]\n",
    "        return line\n",
    "    return cutter if line is None else cutter(line)"
   ]
  },
  {
   "cell_type": "code",
   "execution_count": 229,
   "metadata": {
    "collapsed": true
   },
   "outputs": [],
   "source": [
    "naturals = pd.DataFrame(\n",
    "    data=[w.tags for w in r.ways + r.nodes],\n",
    "    index=[w.id for w in r.ways + r.nodes],\n",
    "    columns=['name', 'natural']\n",
    ")"
   ]
  },
  {
   "cell_type": "code",
   "execution_count": 220,
   "metadata": {
    "collapsed": false
   },
   "outputs": [
    {
     "data": {
      "text/plain": [
       "[u'\\u0420\\u043e\\u043c\\u0430\\u043d-\\u041a\\u043e\\u0448',\n",
       " u'\\u043c\\u044b\\u0441 \\u041b\\u0438\\u043d\\u0435\\u0439\\u043d\\u044b\\u0439',\n",
       " u'\\u0438\\u0441\\u0442\\u043e\\u043a \\u0440\\u0435\\u043a\\u0438 \\u0414\\u043d\\u0435\\u043f\\u0440',\n",
       " u'\\u0418\\u0441\\u0442\\u043e\\u043a \\u0412\\u043e\\u043b\\u0433\\u0438',\n",
       " u'\\u0421\\u044b\\u0442\\u044b\\u0439 \\u043c\\u044b\\u0441']"
      ]
     },
     "execution_count": 220,
     "metadata": {},
     "output_type": "execute_result"
    }
   ],
   "source": [
    "words = []\n",
    "for line in naturals.name:\n",
    "    for w in re.split('ur[А-Яа-яЁё-]+', line):\n",
    "        if w:\n",
    "            words.append(w)\n",
    "\n",
    "words[:5]"
   ]
  },
  {
   "cell_type": "code",
   "execution_count": 221,
   "metadata": {
    "collapsed": false
   },
   "outputs": [
    {
     "data": {
      "text/plain": [
       "Родник                   293\n",
       "террикон                 109\n",
       "Лысая                     69\n",
       "Тополь                    65\n",
       "Грот                      43\n",
       "Святой источник           42\n",
       "Каменная                  39\n",
       "Острая                    38\n",
       "Ель                       34\n",
       "родник                    33\n",
       "Сезонный (??)             33\n",
       "Маяк                      32\n",
       "ск                        31\n",
       "Белая                     29\n",
       "5                         26\n",
       "Источник                  26\n",
       "берёза осина              25\n",
       "грот                      23\n",
       "Дуб                       22\n",
       "Берёзовая                 22\n",
       "Колодец                   22\n",
       "Медвежья                  21\n",
       "Высокая                   20\n",
       "Плоская                   19\n",
       "Крутая                    18\n",
       "Террикон                  18\n",
       "Липовая                   18\n",
       "Круглая                   17\n",
       "Баджальский хребет        17\n",
       "Голая                     16\n",
       "                        ... \n",
       "мыс Анциферова             1\n",
       "3052                       1\n",
       "бухта Художника            1\n",
       "Зенгур                     1\n",
       "Гиряг                      1\n",
       "Сандиба                    1\n",
       "Кольцевая гора             1\n",
       "Летняя губа                1\n",
       "бухта Золотой берег        1\n",
       "мыс Плавничий наволок      1\n",
       "г. Толстик 2               1\n",
       "бухта Кратерная            1\n",
       "гора Гальганай             1\n",
       "1360,8                     1\n",
       "Чернышева                  1\n",
       "Кызляр-Караул              1\n",
       "гора Бычья                 1\n",
       "Шурфы                      1\n",
       "Тюнь                       1\n",
       "2906,5                     1\n",
       "Мыс Плашковский            1\n",
       "гора Стланиковая           1\n",
       "Ледник Миддендорфа         1\n",
       "Гранное ухо                1\n",
       "Чуарвъяврпахк              1\n",
       "Аютышек-Чокрак             1\n",
       "гора Большой Таскыл        1\n",
       "Абгыцха                    1\n",
       "гора Мукан                 1\n",
       "Этай                       1\n",
       "dtype: int64"
      ]
     },
     "execution_count": 221,
     "metadata": {},
     "output_type": "execute_result"
    }
   ],
   "source": [
    "pd.Series(words).value_counts()"
   ]
  },
  {
   "cell_type": "code",
   "execution_count": 230,
   "metadata": {
    "collapsed": false
   },
   "outputs": [
    {
     "data": {
      "text/html": [
       "<div>\n",
       "<table border=\"1\" class=\"dataframe\">\n",
       "  <thead>\n",
       "    <tr style=\"text-align: right;\">\n",
       "      <th></th>\n",
       "      <th>name</th>\n",
       "      <th>natural</th>\n",
       "    </tr>\n",
       "  </thead>\n",
       "  <tbody>\n",
       "    <tr>\n",
       "      <th>26864474</th>\n",
       "      <td>роман-кош</td>\n",
       "      <td>peak</td>\n",
       "    </tr>\n",
       "    <tr>\n",
       "      <th>265814522</th>\n",
       "      <td>айкуайвенчорр</td>\n",
       "      <td>peak</td>\n",
       "    </tr>\n",
       "    <tr>\n",
       "      <th>281891594</th>\n",
       "      <td>опала</td>\n",
       "      <td>volcano</td>\n",
       "    </tr>\n",
       "    <tr>\n",
       "      <th>281893797</th>\n",
       "      <td>алаид</td>\n",
       "      <td>volcano</td>\n",
       "    </tr>\n",
       "    <tr>\n",
       "      <th>281895277</th>\n",
       "      <td>броутона</td>\n",
       "      <td>peak</td>\n",
       "    </tr>\n",
       "    <tr>\n",
       "      <th>281895627</th>\n",
       "      <td>менделеева</td>\n",
       "      <td>volcano</td>\n",
       "    </tr>\n",
       "    <tr>\n",
       "      <th>281896663</th>\n",
       "      <td>тятя</td>\n",
       "      <td>volcano</td>\n",
       "    </tr>\n",
       "    <tr>\n",
       "      <th>281907079</th>\n",
       "      <td>кетой</td>\n",
       "      <td>volcano</td>\n",
       "    </tr>\n",
       "    <tr>\n",
       "      <th>281910771</th>\n",
       "      <td>сарычев</td>\n",
       "      <td>volcano</td>\n",
       "    </tr>\n",
       "    <tr>\n",
       "      <th>281913843</th>\n",
       "      <td>райкоке</td>\n",
       "      <td>volcano</td>\n",
       "    </tr>\n",
       "    <tr>\n",
       "      <th>281914866</th>\n",
       "      <td>расшуа</td>\n",
       "      <td>volcano</td>\n",
       "    </tr>\n",
       "    <tr>\n",
       "      <th>281915827</th>\n",
       "      <td>ушишир</td>\n",
       "      <td>volcano</td>\n",
       "    </tr>\n",
       "    <tr>\n",
       "      <th>281917524</th>\n",
       "      <td>креницын</td>\n",
       "      <td>volcano</td>\n",
       "    </tr>\n",
       "    <tr>\n",
       "      <th>281918618</th>\n",
       "      <td>немо</td>\n",
       "      <td>volcano</td>\n",
       "    </tr>\n",
       "    <tr>\n",
       "      <th>281920463</th>\n",
       "      <td>чёрного</td>\n",
       "      <td>volcano</td>\n",
       "    </tr>\n",
       "    <tr>\n",
       "      <th>281922469</th>\n",
       "      <td>брат-чирпоев</td>\n",
       "      <td>peak</td>\n",
       "    </tr>\n",
       "    <tr>\n",
       "      <th>281923511</th>\n",
       "      <td>эбеко</td>\n",
       "      <td>volcano</td>\n",
       "    </tr>\n",
       "    <tr>\n",
       "      <th>281935860</th>\n",
       "      <td>экарма</td>\n",
       "      <td>volcano</td>\n",
       "    </tr>\n",
       "    <tr>\n",
       "      <th>281936304</th>\n",
       "      <td>эльбрус</td>\n",
       "      <td>peak</td>\n",
       "    </tr>\n",
       "    <tr>\n",
       "      <th>281936405</th>\n",
       "      <td>эльбрус</td>\n",
       "      <td>peak</td>\n",
       "    </tr>\n",
       "    <tr>\n",
       "      <th>282049754</th>\n",
       "      <td>безымянный</td>\n",
       "      <td>volcano</td>\n",
       "    </tr>\n",
       "    <tr>\n",
       "      <th>282052006</th>\n",
       "      <td>горелый</td>\n",
       "      <td>volcano</td>\n",
       "    </tr>\n",
       "    <tr>\n",
       "      <th>282069305</th>\n",
       "      <td>ксудач</td>\n",
       "      <td>volcano</td>\n",
       "    </tr>\n",
       "    <tr>\n",
       "      <th>282182736</th>\n",
       "      <td>мутновский</td>\n",
       "      <td>volcano</td>\n",
       "    </tr>\n",
       "    <tr>\n",
       "      <th>282183396</th>\n",
       "      <td>уксичан</td>\n",
       "      <td>volcano</td>\n",
       "    </tr>\n",
       "    <tr>\n",
       "      <th>282183755</th>\n",
       "      <td>хангар</td>\n",
       "      <td>volcano</td>\n",
       "    </tr>\n",
       "    <tr>\n",
       "      <th>282184268</th>\n",
       "      <td>шивелуч</td>\n",
       "      <td>volcano</td>\n",
       "    </tr>\n",
       "    <tr>\n",
       "      <th>282184542</th>\n",
       "      <td>шишель</td>\n",
       "      <td>volcano</td>\n",
       "    </tr>\n",
       "    <tr>\n",
       "      <th>283190622</th>\n",
       "      <td>белуха</td>\n",
       "      <td>peak</td>\n",
       "    </tr>\n",
       "    <tr>\n",
       "      <th>283566907</th>\n",
       "      <td>прево</td>\n",
       "      <td>volcano</td>\n",
       "    </tr>\n",
       "    <tr>\n",
       "      <th>286142289</th>\n",
       "      <td>таскыл</td>\n",
       "      <td>peak</td>\n",
       "    </tr>\n",
       "    <tr>\n",
       "      <th>286563728</th>\n",
       "      <td>ильинский</td>\n",
       "      <td>volcano</td>\n",
       "    </tr>\n",
       "    <tr>\n",
       "      <th>287407114</th>\n",
       "      <td>дыхтау</td>\n",
       "      <td>peak</td>\n",
       "    </tr>\n",
       "    <tr>\n",
       "      <th>292906920</th>\n",
       "      <td>зверобой</td>\n",
       "      <td>peak</td>\n",
       "    </tr>\n",
       "    <tr>\n",
       "      <th>295038550</th>\n",
       "      <td>романовка</td>\n",
       "      <td>volcano</td>\n",
       "    </tr>\n",
       "    <tr>\n",
       "      <th>300128704</th>\n",
       "      <td>плашковский</td>\n",
       "      <td>peak</td>\n",
       "    </tr>\n",
       "    <tr>\n",
       "      <th>300128772</th>\n",
       "      <td>лодейский</td>\n",
       "      <td>peak</td>\n",
       "    </tr>\n",
       "    <tr>\n",
       "      <th>300130979</th>\n",
       "      <td>никольский</td>\n",
       "      <td>peak</td>\n",
       "    </tr>\n",
       "    <tr>\n",
       "      <th>300169810</th>\n",
       "      <td>лысунов</td>\n",
       "      <td>peak</td>\n",
       "    </tr>\n",
       "    <tr>\n",
       "      <th>300169853</th>\n",
       "      <td>зимнегорский</td>\n",
       "      <td>peak</td>\n",
       "    </tr>\n",
       "    <tr>\n",
       "      <th>300169965</th>\n",
       "      <td>керец</td>\n",
       "      <td>peak</td>\n",
       "    </tr>\n",
       "    <tr>\n",
       "      <th>300170103</th>\n",
       "      <td>броницкий</td>\n",
       "      <td>peak</td>\n",
       "    </tr>\n",
       "    <tr>\n",
       "      <th>300199373</th>\n",
       "      <td>голец</td>\n",
       "      <td>peak</td>\n",
       "    </tr>\n",
       "    <tr>\n",
       "      <th>304511388</th>\n",
       "      <td>мус-хая</td>\n",
       "      <td>peak</td>\n",
       "    </tr>\n",
       "    <tr>\n",
       "      <th>306115287</th>\n",
       "      <td>мунку-сардык</td>\n",
       "      <td>peak</td>\n",
       "    </tr>\n",
       "    <tr>\n",
       "      <th>309608586</th>\n",
       "      <td>жерновая</td>\n",
       "      <td>peak</td>\n",
       "    </tr>\n",
       "    <tr>\n",
       "      <th>309608614</th>\n",
       "      <td>салкыншокы</td>\n",
       "      <td>peak</td>\n",
       "    </tr>\n",
       "    <tr>\n",
       "      <th>309609340</th>\n",
       "      <td>асхатин-дабани-хяр</td>\n",
       "      <td>peak</td>\n",
       "    </tr>\n",
       "    <tr>\n",
       "      <th>309617396</th>\n",
       "      <td>мохнато-гладкая</td>\n",
       "      <td>peak</td>\n",
       "    </tr>\n",
       "    <tr>\n",
       "      <th>309617401</th>\n",
       "      <td>омелиха</td>\n",
       "      <td>peak</td>\n",
       "    </tr>\n",
       "  </tbody>\n",
       "</table>\n",
       "</div>"
      ],
      "text/plain": [
       "                         name  natural\n",
       "26864474            роман-кош     peak\n",
       "265814522       айкуайвенчорр     peak\n",
       "281891594               опала  volcano\n",
       "281893797               алаид  volcano\n",
       "281895277            броутона     peak\n",
       "281895627          менделеева  volcano\n",
       "281896663                тятя  volcano\n",
       "281907079               кетой  volcano\n",
       "281910771             сарычев  volcano\n",
       "281913843             райкоке  volcano\n",
       "281914866              расшуа  volcano\n",
       "281915827              ушишир  volcano\n",
       "281917524            креницын  volcano\n",
       "281918618                немо  volcano\n",
       "281920463             чёрного  volcano\n",
       "281922469        брат-чирпоев     peak\n",
       "281923511               эбеко  volcano\n",
       "281935860              экарма  volcano\n",
       "281936304             эльбрус     peak\n",
       "281936405             эльбрус     peak\n",
       "282049754          безымянный  volcano\n",
       "282052006             горелый  volcano\n",
       "282069305              ксудач  volcano\n",
       "282182736          мутновский  volcano\n",
       "282183396             уксичан  volcano\n",
       "282183755              хангар  volcano\n",
       "282184268             шивелуч  volcano\n",
       "282184542              шишель  volcano\n",
       "283190622              белуха     peak\n",
       "283566907               прево  volcano\n",
       "286142289              таскыл     peak\n",
       "286563728           ильинский  volcano\n",
       "287407114              дыхтау     peak\n",
       "292906920            зверобой     peak\n",
       "295038550           романовка  volcano\n",
       "300128704         плашковский     peak\n",
       "300128772           лодейский     peak\n",
       "300130979          никольский     peak\n",
       "300169810             лысунов     peak\n",
       "300169853        зимнегорский     peak\n",
       "300169965               керец     peak\n",
       "300170103           броницкий     peak\n",
       "300199373               голец     peak\n",
       "304511388             мус-хая     peak\n",
       "306115287        мунку-сардык     peak\n",
       "309608586            жерновая     peak\n",
       "309608614          салкыншокы     peak\n",
       "309609340  асхатин-дабани-хяр     peak\n",
       "309617396     мохнато-гладкая     peak\n",
       "309617401             омелиха     peak"
      ]
     },
     "execution_count": 230,
     "metadata": {},
     "output_type": "execute_result"
    }
   ],
   "source": [
    "naturals.name = (\n",
    "    naturals.name\n",
    "    .str.strip()\n",
    "    .str.lower()\n",
    "    .map(cut_prefix(u\"мыс \")).map(cut_suffix(u\" мыс\"))\n",
    "    .map(cut_prefix(u\"гора \")).map(cut_suffix(u\" гора\"))\n",
    "    .map(cut_prefix(u\"г.\"))\n",
    "    .str.strip()\n",
    ")\n",
    "naturals = naturals[naturals.name.str.match(u'^[а-яё-]+$')]\n",
    "naturals.head(50)"
   ]
  },
  {
   "cell_type": "code",
   "execution_count": null,
   "metadata": {
    "collapsed": true
   },
   "outputs": [],
   "source": [
    "sparql = SPARQLWrapper.SPARQLWrapper(\"http://query.wikidata.org/sparql\")\n",
    "\n",
    "sparql.setQuery(\"\"\"\n",
    "PREFIX wd: <http://www.wikidata.org/entity/>\n",
    "PREFIX wdt: <http://www.wikidata.org/prop/direct/>\n",
    "\n",
    "SELECT ?person ?personLabel\n",
    "WHERE\n",
    "{\n",
    "  ?person wdt:P31 wd:Q5.\n",
    "  SERVICE wikibase:label { bd:serviceParam wikibase:language \"ru\". }\n",
    "}\n",
    "LIMIT 100\n",
    "\"\"\")\n",
    "\n",
    "sparql.setReturnFormat(SPARQLWrapper.JSON)\n",
    "resp = sparql.query().convert()"
   ]
  },
  {
   "cell_type": "code",
   "execution_count": null,
   "metadata": {
    "collapsed": true
   },
   "outputs": [],
   "source": []
  }
 ],
 "metadata": {
  "kernelspec": {
   "display_name": "Python 2",
   "language": "python",
   "name": "python2"
  },
  "language_info": {
   "codemirror_mode": {
    "name": "ipython",
    "version": 2
   },
   "file_extension": ".py",
   "mimetype": "text/x-python",
   "name": "python",
   "nbconvert_exporter": "python",
   "pygments_lexer": "ipython2",
   "version": "2.7.6"
  }
 },
 "nbformat": 4,
 "nbformat_minor": 1
}
