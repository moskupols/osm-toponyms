{
 "cells": [
  {
   "cell_type": "markdown",
   "metadata": {},
   "source": [
    "# Улицы"
   ]
  },
  {
   "cell_type": "markdown",
   "metadata": {},
   "source": [
    "## выкачивание данных"
   ]
  },
  {
   "cell_type": "code",
   "execution_count": 3,
   "metadata": {
    "collapsed": true
   },
   "outputs": [],
   "source": [
    "import overpy\n",
    "op = overpy.Overpass()"
   ]
  },
  {
   "cell_type": "code",
   "execution_count": 123,
   "metadata": {
    "collapsed": false
   },
   "outputs": [],
   "source": [
    "# http://gis.stackexchange.com/questions/178424/overpass-turbo-area-code-lookup\n",
    "AREA = \"3600060189\"  # Russia"
   ]
  },
  {
   "cell_type": "code",
   "execution_count": 41,
   "metadata": {
    "collapsed": false
   },
   "outputs": [],
   "source": [
    "r = op.query('''\n",
    "area({})->.searchArea;\n",
    "(\n",
    "    way\n",
    "    [\"name\"][\"highway\"]\n",
    "    (area.searchArea);\n",
    ");\n",
    "out;\n",
    "'''.format(AREA))"
   ]
  },
  {
   "cell_type": "code",
   "execution_count": 47,
   "metadata": {
    "collapsed": false
   },
   "outputs": [],
   "source": [
    "import cPickle\n",
    "with open('ways_ru.pcl', 'wb') as pcl:\n",
    "    cPickle.dump(r, pcl)"
   ]
  },
  {
   "cell_type": "markdown",
   "metadata": {},
   "source": [
    "## загрузка данных"
   ]
  },
  {
   "cell_type": "code",
   "execution_count": 490,
   "metadata": {
    "collapsed": false
   },
   "outputs": [],
   "source": [
    "import cPickle\n",
    "with open('ways_ru.pcl', 'rb') as pcl:\n",
    "    r = cPickle.load(pcl)"
   ]
  },
  {
   "cell_type": "code",
   "execution_count": 322,
   "metadata": {
    "collapsed": false,
    "scrolled": true
   },
   "outputs": [
    {
     "data": {
      "text/plain": [
       "{'highway': 'tertiary',\n",
       " 'name': u'\\u041a\\u043e\\u043c\\u0441\\u043e\\u043c\\u043e\\u043b\\u044c\\u0441\\u043a\\u0430\\u044f \\u0443\\u043b\\u0438\\u0446\\u0430',\n",
       " 'name:en': \"Komsomol'skaja street\",\n",
       " 'name:ru': u'\\u041a\\u043e\\u043c\\u0441\\u043e\\u043c\\u043e\\u043b\\u044c\\u0441\\u043a\\u0430\\u044f \\u0443\\u043b\\u0438\\u0446\\u0430',\n",
       " 'postal_code': '183038',\n",
       " 'surface': 'asphalt'}"
      ]
     },
     "execution_count": 322,
     "metadata": {},
     "output_type": "execute_result"
    }
   ],
   "source": [
    "r.ways[1].tags"
   ]
  },
  {
   "cell_type": "code",
   "execution_count": 491,
   "metadata": {
    "collapsed": false
   },
   "outputs": [
    {
     "data": {
      "text/html": [
       "<div>\n",
       "<table border=\"1\" class=\"dataframe\">\n",
       "  <thead>\n",
       "    <tr style=\"text-align: right;\">\n",
       "      <th></th>\n",
       "      <th>name</th>\n",
       "      <th>highway</th>\n",
       "      <th>name:en</th>\n",
       "      <th>name:de</th>\n",
       "    </tr>\n",
       "  </thead>\n",
       "  <tbody>\n",
       "    <tr>\n",
       "      <th>4078548</th>\n",
       "      <td>Шепетовская улица</td>\n",
       "      <td>residential</td>\n",
       "      <td>NaN</td>\n",
       "      <td>NaN</td>\n",
       "    </tr>\n",
       "    <tr>\n",
       "      <th>4391345</th>\n",
       "      <td>Комсомольская улица</td>\n",
       "      <td>tertiary</td>\n",
       "      <td>Komsomol'skaja street</td>\n",
       "      <td>NaN</td>\n",
       "    </tr>\n",
       "    <tr>\n",
       "      <th>4391346</th>\n",
       "      <td>проспект Ленина</td>\n",
       "      <td>primary</td>\n",
       "      <td>Lenina avenue</td>\n",
       "      <td>NaN</td>\n",
       "    </tr>\n",
       "    <tr>\n",
       "      <th>4391347</th>\n",
       "      <td>улица Полярные Зори</td>\n",
       "      <td>secondary</td>\n",
       "      <td>Poljarnye Zori street</td>\n",
       "      <td>NaN</td>\n",
       "    </tr>\n",
       "    <tr>\n",
       "      <th>4391349</th>\n",
       "      <td>улица Книповича</td>\n",
       "      <td>secondary</td>\n",
       "      <td>Knipovicha street</td>\n",
       "      <td>NaN</td>\n",
       "    </tr>\n",
       "  </tbody>\n",
       "</table>\n",
       "</div>"
      ],
      "text/plain": [
       "                        name      highway                name:en name:de\n",
       "4078548    Шепетовская улица  residential                    NaN     NaN\n",
       "4391345  Комсомольская улица     tertiary  Komsomol'skaja street     NaN\n",
       "4391346      проспект Ленина      primary          Lenina avenue     NaN\n",
       "4391347  улица Полярные Зори    secondary  Poljarnye Zori street     NaN\n",
       "4391349      улица Книповича    secondary      Knipovicha street     NaN"
      ]
     },
     "execution_count": 491,
     "metadata": {},
     "output_type": "execute_result"
    }
   ],
   "source": [
    "import pandas as pd\n",
    "\n",
    "df = pd.DataFrame(\n",
    "    data=[w.tags for w in r.ways],\n",
    "    index=[w.id for w in r.ways],\n",
    "    columns=['name', 'highway', 'name:en', 'name:de']\n",
    ")\n",
    "#, 'highway', 'name:en', 'name:de']\n",
    "df.head()"
   ]
  },
  {
   "cell_type": "code",
   "execution_count": 135,
   "metadata": {
    "collapsed": false
   },
   "outputs": [
    {
     "data": {
      "text/plain": [
       "659126"
      ]
     },
     "execution_count": 135,
     "metadata": {},
     "output_type": "execute_result"
    }
   ],
   "source": [
    "len(df)"
   ]
  },
  {
   "cell_type": "code",
   "execution_count": 482,
   "metadata": {
    "collapsed": true
   },
   "outputs": [],
   "source": [
    "streets_of = df[\n",
    "    df.name.str.startswith(u'улица')\n",
    "    | df.name.str.startswith(u'проспект')\n",
    "].copy()"
   ]
  },
  {
   "cell_type": "code",
   "execution_count": 483,
   "metadata": {
    "collapsed": false,
    "scrolled": true
   },
   "outputs": [],
   "source": [
    "import pymorphy2\n",
    "from functools32 import lru_cache\n",
    "\n",
    "morph_analyzer = pymorphy2.MorphAnalyzer()\n",
    "\n",
    "@lru_cache()\n",
    "def street_to_normalized_surname(s):\n",
    "    inflected = s.split()[1:]\n",
    "    morph = [morph_analyzer.parse(word) for word in inflected]\n",
    "    normalized = []\n",
    "    for m in morph:\n",
    "        if not any('NOUN' in form.tag.grammemes for form in m):\n",
    "            return None\n",
    "        if not any(form.is_known for form in m):  # the word has not occurred on OpenCorpora, probably a rare surname\n",
    "            normalized.append(m[0].normalized.word)\n",
    "            continue\n",
    "        for form in m:\n",
    "            if form.is_known and form.tag.grammemes.intersection({'Name', 'Surn'}) and form.tag.case == 'gent':\n",
    "                normalized.append(form.normal_form)\n",
    "                break\n",
    "        else:\n",
    "            return None\n",
    "    return ' '.join(normalized) if len(normalized) else None\n",
    "\n",
    "streets_of['norm_surname'] = streets_of.name.map(street_to_normalized_surname)"
   ]
  },
  {
   "cell_type": "code",
   "execution_count": 484,
   "metadata": {
    "collapsed": false
   },
   "outputs": [],
   "source": [
    "streets_of['of'] = streets_of.name.str.rpartition(' ')[2]"
   ]
  },
  {
   "cell_type": "code",
   "execution_count": 488,
   "metadata": {
    "collapsed": false
   },
   "outputs": [
    {
     "data": {
      "text/plain": [
       "210260"
      ]
     },
     "execution_count": 488,
     "metadata": {},
     "output_type": "execute_result"
    }
   ],
   "source": [
    "len(streets_of)"
   ]
  },
  {
   "cell_type": "code",
   "execution_count": 485,
   "metadata": {
    "collapsed": false
   },
   "outputs": [
    {
     "data": {
      "text/html": [
       "<div>\n",
       "<table border=\"1\" class=\"dataframe\">\n",
       "  <thead>\n",
       "    <tr style=\"text-align: right;\">\n",
       "      <th></th>\n",
       "      <th>name</th>\n",
       "      <th>norm_surname</th>\n",
       "      <th>of</th>\n",
       "    </tr>\n",
       "  </thead>\n",
       "  <tbody>\n",
       "    <tr>\n",
       "      <th>4391346</th>\n",
       "      <td>проспект Ленина</td>\n",
       "      <td>ленин</td>\n",
       "      <td>Ленина</td>\n",
       "    </tr>\n",
       "    <tr>\n",
       "      <th>4391347</th>\n",
       "      <td>улица Полярные Зори</td>\n",
       "      <td>None</td>\n",
       "      <td>Зори</td>\n",
       "    </tr>\n",
       "    <tr>\n",
       "      <th>4391349</th>\n",
       "      <td>улица Книповича</td>\n",
       "      <td>книп</td>\n",
       "      <td>Книповича</td>\n",
       "    </tr>\n",
       "    <tr>\n",
       "      <th>4391353</th>\n",
       "      <td>улица Буркова</td>\n",
       "      <td>бурков</td>\n",
       "      <td>Буркова</td>\n",
       "    </tr>\n",
       "    <tr>\n",
       "      <th>4391355</th>\n",
       "      <td>улица Радищева</td>\n",
       "      <td>радищев</td>\n",
       "      <td>Радищева</td>\n",
       "    </tr>\n",
       "  </tbody>\n",
       "</table>\n",
       "</div>"
      ],
      "text/plain": [
       "                        name norm_surname         of\n",
       "4391346      проспект Ленина        ленин     Ленина\n",
       "4391347  улица Полярные Зори         None       Зори\n",
       "4391349      улица Книповича         книп  Книповича\n",
       "4391353        улица Буркова       бурков    Буркова\n",
       "4391355       улица Радищева      радищев   Радищева"
      ]
     },
     "execution_count": 485,
     "metadata": {},
     "output_type": "execute_result"
    }
   ],
   "source": [
    "streets_of.head()"
   ]
  },
  {
   "cell_type": "code",
   "execution_count": 378,
   "metadata": {
    "collapsed": false
   },
   "outputs": [
    {
     "data": {
      "text/plain": [
       "ленин         9929\n",
       "гагарин       4067\n",
       "киров         3755\n",
       "пушкин        3025\n",
       "калинин       2922\n",
       "карл маркс    2541\n",
       "горький       2215\n",
       "чапаев        2084\n",
       "свердлов      1483\n",
       "маяковский    1474\n",
       "лермонтов     1466\n",
       "мичурин       1430\n",
       "фрунзе        1406\n",
       "гоголь        1319\n",
       "некрасов      1207\n",
       "Name: norm_surname, dtype: int64"
      ]
     },
     "execution_count": 378,
     "metadata": {},
     "output_type": "execute_result"
    }
   ],
   "source": [
    "streets_of.norm_surname.value_counts().head(15)"
   ]
  },
  {
   "cell_type": "code",
   "execution_count": 495,
   "metadata": {
    "collapsed": false
   },
   "outputs": [
    {
     "data": {
      "text/plain": [
       "фаломеев          1\n",
       "борохов           1\n",
       "адамоков          1\n",
       "новоберкасский    1\n",
       "петруева          1\n",
       "кочкарка          1\n",
       "мотов             1\n",
       "первомайк         1\n",
       "гаджикаев         1\n",
       "п.в.кучумов       1\n",
       "надежда онайко    1\n",
       "тахиров           1\n",
       "абдулбасиров      1\n",
       "бабякина          1\n",
       "дурмагашево       1\n",
       "Name: norm_surname, dtype: int64"
      ]
     },
     "execution_count": 495,
     "metadata": {},
     "output_type": "execute_result"
    }
   ],
   "source": [
    "streets_of.norm_surname.value_counts().tail(15)"
   ]
  },
  {
   "cell_type": "code",
   "execution_count": 380,
   "metadata": {
    "collapsed": false
   },
   "outputs": [
    {
     "data": {
      "text/plain": [
       "надежда суслов    6\n",
       "батыршина         6\n",
       "кайгородов        6\n",
       "грибанов          6\n",
       "николай чаплин    6\n",
       "гарнаева          6\n",
       "мезенцев          6\n",
       "самаренкин        6\n",
       "уметбаев          6\n",
       "корнейчук         6\n",
       "дронов            6\n",
       "ачкасова          6\n",
       "кирьяновый        6\n",
       "горин             6\n",
       "мартемьянов       6\n",
       "Name: norm_surname, dtype: int64"
      ]
     },
     "execution_count": 380,
     "metadata": {},
     "output_type": "execute_result"
    }
   ],
   "source": [
    "streets_of.norm_surname.value_counts().iloc[2000:2015]"
   ]
  },
  {
   "cell_type": "markdown",
   "metadata": {},
   "source": [
    "# Места"
   ]
  },
  {
   "cell_type": "markdown",
   "metadata": {},
   "source": [
    "## выкачивание данных"
   ]
  },
  {
   "cell_type": "code",
   "execution_count": 25,
   "metadata": {
    "collapsed": true
   },
   "outputs": [],
   "source": [
    "import overpy\n",
    "op = overpy.Overpass()"
   ]
  },
  {
   "cell_type": "code",
   "execution_count": 26,
   "metadata": {
    "collapsed": false
   },
   "outputs": [],
   "source": [
    "# http://gis.stackexchange.com/questions/178424/overpass-turbo-area-code-lookup\n",
    "AREA = \"3600060189\"  # Russia"
   ]
  },
  {
   "cell_type": "code",
   "execution_count": 27,
   "metadata": {
    "collapsed": false
   },
   "outputs": [],
   "source": [
    "r = op.query('''\n",
    "area({})->.searchArea;\n",
    "(\n",
    "    node\n",
    "    [\"name\"][\"place\"]\n",
    "    (area.searchArea);\n",
    ");\n",
    "out;\n",
    "'''.format(AREA))"
   ]
  },
  {
   "cell_type": "code",
   "execution_count": 28,
   "metadata": {
    "collapsed": false
   },
   "outputs": [],
   "source": [
    "import cPickle\n",
    "with open('places_ru.pcl', 'wb') as pcl:\n",
    "    cPickle.dump(r, pcl)"
   ]
  },
  {
   "cell_type": "markdown",
   "metadata": {},
   "source": [
    "## загрузка данных"
   ]
  },
  {
   "cell_type": "code",
   "execution_count": 431,
   "metadata": {
    "collapsed": false
   },
   "outputs": [],
   "source": [
    "import cPickle\n",
    "with open('places_ru.pcl', 'rb') as pcl:\n",
    "    r = cPickle.load(pcl)"
   ]
  },
  {
   "cell_type": "code",
   "execution_count": 432,
   "metadata": {
    "collapsed": false
   },
   "outputs": [
    {
     "data": {
      "text/html": [
       "<div>\n",
       "<table border=\"1\" class=\"dataframe\">\n",
       "  <thead>\n",
       "    <tr style=\"text-align: right;\">\n",
       "      <th></th>\n",
       "      <th>name</th>\n",
       "      <th>place</th>\n",
       "    </tr>\n",
       "  </thead>\n",
       "  <tbody>\n",
       "    <tr>\n",
       "      <th>26163795</th>\n",
       "      <td>Невель</td>\n",
       "      <td>town</td>\n",
       "    </tr>\n",
       "    <tr>\n",
       "      <th>26878551</th>\n",
       "      <td>Кандалакша</td>\n",
       "      <td>town</td>\n",
       "    </tr>\n",
       "    <tr>\n",
       "      <th>26898767</th>\n",
       "      <td>Апатиты</td>\n",
       "      <td>town</td>\n",
       "    </tr>\n",
       "    <tr>\n",
       "      <th>26898768</th>\n",
       "      <td>Калевала</td>\n",
       "      <td>town</td>\n",
       "    </tr>\n",
       "    <tr>\n",
       "      <th>26898769</th>\n",
       "      <td>Кировск</td>\n",
       "      <td>town</td>\n",
       "    </tr>\n",
       "  </tbody>\n",
       "</table>\n",
       "</div>"
      ],
      "text/plain": [
       "                name place\n",
       "26163795      Невель  town\n",
       "26878551  Кандалакша  town\n",
       "26898767     Апатиты  town\n",
       "26898768    Калевала  town\n",
       "26898769     Кировск  town"
      ]
     },
     "execution_count": 432,
     "metadata": {},
     "output_type": "execute_result"
    }
   ],
   "source": [
    "import pandas as pd\n",
    "\n",
    "places = pd.DataFrame(\n",
    "    data=[w.tags for w in r.nodes],\n",
    "    index=[w.id for w in r.nodes],\n",
    "    columns=['name', 'place']\n",
    ")\n",
    "places.head()"
   ]
  },
  {
   "cell_type": "code",
   "execution_count": 433,
   "metadata": {
    "collapsed": false
   },
   "outputs": [
    {
     "data": {
      "text/plain": [
       "hamlet               109493\n",
       "village               37090\n",
       "locality              17125\n",
       "suburb                 3544\n",
       "town                   2435\n",
       "allotments             1661\n",
       "neighbourhood          1634\n",
       "isolated_dwelling      1572\n",
       "city                    195\n",
       "island                  188\n",
       "quarter                 164\n",
       "state                    87\n",
       "islet                    51\n",
       "subdistrict              47\n",
       "archipelago              27\n",
       "square                   19\n",
       "farm                     18\n",
       "islands                   4\n",
       "allotments_set            3\n",
       "mountain_range            3\n",
       "region                    2\n",
       "historic                  2\n",
       "peninsula                 2\n",
       "1-й квартал               1\n",
       "county                    1\n",
       "sea                       1\n",
       "continent                 1\n",
       "post_box                  1\n",
       "country                   1\n",
       "Name: place, dtype: int64"
      ]
     },
     "execution_count": 433,
     "metadata": {},
     "output_type": "execute_result"
    }
   ],
   "source": [
    "places.place.value_counts()"
   ]
  },
  {
   "cell_type": "markdown",
   "metadata": {},
   "source": [
    "# Фамилии"
   ]
  },
  {
   "cell_type": "code",
   "execution_count": 46,
   "metadata": {
    "collapsed": false
   },
   "outputs": [],
   "source": [
    "import bs4\n",
    "import requests"
   ]
  },
  {
   "cell_type": "code",
   "execution_count": 435,
   "metadata": {
    "collapsed": false
   },
   "outputs": [],
   "source": [
    "raw_surnames = []\n",
    "for i in range(1, 36):\n",
    "    page = requests.get('http://allfamilii.narod.ru/{}.htm'.format(i))\n",
    "    parser = bs4.BeautifulSoup(page.text)\n",
    "    text = parser.select_one('fieldset p').text\n",
    "    raw_surnames.extend(text.split(', '))"
   ]
  },
  {
   "cell_type": "code",
   "execution_count": 486,
   "metadata": {
    "collapsed": false
   },
   "outputs": [],
   "source": [
    "surnames = pd.DataFrame(\n",
    "    pd.Series(raw_surnames)\n",
    "        .str.strip()\n",
    "        .str.strip(',')\n",
    "        .str.lower()\n",
    "        .str.replace(u'ё', u'е')\n",
    "        .sort_values().unique()[2:],\n",
    "    columns=['surname'],\n",
    ")"
   ]
  },
  {
   "cell_type": "code",
   "execution_count": 478,
   "metadata": {
    "collapsed": false
   },
   "outputs": [],
   "source": [
    "import marisa_trie\n",
    "trie = marisa_trie.Trie(iter(surnames.surname))\n",
    "\n",
    "import Stemmer\n",
    "stemmer = Stemmer.Stemmer('russian')\n",
    "\n",
    "@lru_cache()\n",
    "def similar_surnames(word):\n",
    "    if word is None:\n",
    "        return None\n",
    "    stem = stemmer.stemWord(word)\n",
    "    keys = trie.keys(unicode(stem))\n",
    "    return ' '.join(keys) if len(keys) else None"
   ]
  },
  {
   "cell_type": "code",
   "execution_count": 496,
   "metadata": {
    "collapsed": false
   },
   "outputs": [],
   "source": [
    "places['matched'] = places.name.str.lower().map(similar_surnames)"
   ]
  },
  {
   "cell_type": "code",
   "execution_count": 497,
   "metadata": {
    "collapsed": false
   },
   "outputs": [
    {
     "data": {
      "text/html": [
       "<div>\n",
       "<table border=\"1\" class=\"dataframe\">\n",
       "  <thead>\n",
       "    <tr style=\"text-align: right;\">\n",
       "      <th></th>\n",
       "      <th>name</th>\n",
       "      <th>place</th>\n",
       "      <th>matched</th>\n",
       "    </tr>\n",
       "  </thead>\n",
       "  <tbody>\n",
       "    <tr>\n",
       "      <th>26898826</th>\n",
       "      <td>Зеленоборский</td>\n",
       "      <td>town</td>\n",
       "      <td>зеленоборская</td>\n",
       "    </tr>\n",
       "    <tr>\n",
       "      <th>26898992</th>\n",
       "      <td>Пунча</td>\n",
       "      <td>hamlet</td>\n",
       "      <td>пунчер</td>\n",
       "    </tr>\n",
       "    <tr>\n",
       "      <th>26923442</th>\n",
       "      <td>Анда</td>\n",
       "      <td>village</td>\n",
       "      <td>андриан андрианова андрианович андриановна анд...</td>\n",
       "    </tr>\n",
       "    <tr>\n",
       "      <th>26925161</th>\n",
       "      <td>Мезень</td>\n",
       "      <td>town</td>\n",
       "      <td>мезенцева</td>\n",
       "    </tr>\n",
       "    <tr>\n",
       "      <th>26951330</th>\n",
       "      <td>Вологда</td>\n",
       "      <td>city</td>\n",
       "      <td>вологдин</td>\n",
       "    </tr>\n",
       "    <tr>\n",
       "      <th>27000366</th>\n",
       "      <td>Тверь</td>\n",
       "      <td>city</td>\n",
       "      <td>тверикин тверитин тверской тверье</td>\n",
       "    </tr>\n",
       "    <tr>\n",
       "      <th>27023177</th>\n",
       "      <td>Луга</td>\n",
       "      <td>town</td>\n",
       "      <td>лугов луговский луговцев луговинов лугавцов лу...</td>\n",
       "    </tr>\n",
       "    <tr>\n",
       "      <th>27024680</th>\n",
       "      <td>Пушкин</td>\n",
       "      <td>city</td>\n",
       "      <td>пушкин</td>\n",
       "    </tr>\n",
       "    <tr>\n",
       "      <th>27090043</th>\n",
       "      <td>Курск</td>\n",
       "      <td>city</td>\n",
       "      <td>курскова</td>\n",
       "    </tr>\n",
       "    <tr>\n",
       "      <th>27464485</th>\n",
       "      <td>Петровское</td>\n",
       "      <td>village</td>\n",
       "      <td>петровская петровский</td>\n",
       "    </tr>\n",
       "    <tr>\n",
       "      <th>27464486</th>\n",
       "      <td>Ростов</td>\n",
       "      <td>town</td>\n",
       "      <td>ростислав ростиславович ростиславовна ростисла...</td>\n",
       "    </tr>\n",
       "    <tr>\n",
       "      <th>27489825</th>\n",
       "      <td>Поляны</td>\n",
       "      <td>village</td>\n",
       "      <td>поляничев поляничкина полянский полякова поляк...</td>\n",
       "    </tr>\n",
       "    <tr>\n",
       "      <th>27504067</th>\n",
       "      <td>Казань</td>\n",
       "      <td>city</td>\n",
       "      <td>казанина казанкина казанов казанцев казанцева</td>\n",
       "    </tr>\n",
       "    <tr>\n",
       "      <th>27504531</th>\n",
       "      <td>Пермь</td>\n",
       "      <td>city</td>\n",
       "      <td>пермедский пермикин</td>\n",
       "    </tr>\n",
       "    <tr>\n",
       "      <th>27504590</th>\n",
       "      <td>Саратов</td>\n",
       "      <td>city</td>\n",
       "      <td>саратова</td>\n",
       "    </tr>\n",
       "    <tr>\n",
       "      <th>27505582</th>\n",
       "      <td>Рязань</td>\n",
       "      <td>city</td>\n",
       "      <td>рязанов</td>\n",
       "    </tr>\n",
       "    <tr>\n",
       "      <th>27505663</th>\n",
       "      <td>Пенза</td>\n",
       "      <td>city</td>\n",
       "      <td>пензей пензин</td>\n",
       "    </tr>\n",
       "    <tr>\n",
       "      <th>29804102</th>\n",
       "      <td>Анапа</td>\n",
       "      <td>city</td>\n",
       "      <td>анапитов</td>\n",
       "    </tr>\n",
       "    <tr>\n",
       "      <th>34043670</th>\n",
       "      <td>Сочи</td>\n",
       "      <td>city</td>\n",
       "      <td>сочин сочина сочинатров сочива соченков</td>\n",
       "    </tr>\n",
       "    <tr>\n",
       "      <th>34389350</th>\n",
       "      <td>Тула</td>\n",
       "      <td>city</td>\n",
       "      <td>тулевская тулевский туленко тулиев тулина тула...</td>\n",
       "    </tr>\n",
       "    <tr>\n",
       "      <th>34390960</th>\n",
       "      <td>Высоцк</td>\n",
       "      <td>town</td>\n",
       "      <td>высоцкий</td>\n",
       "    </tr>\n",
       "    <tr>\n",
       "      <th>60078302</th>\n",
       "      <td>Стародуб</td>\n",
       "      <td>town</td>\n",
       "      <td>стародубцев стародубцева стародубов</td>\n",
       "    </tr>\n",
       "    <tr>\n",
       "      <th>60237889</th>\n",
       "      <td>Светлый</td>\n",
       "      <td>town</td>\n",
       "      <td>светличков светличнова светлана светлова</td>\n",
       "    </tr>\n",
       "    <tr>\n",
       "      <th>60238036</th>\n",
       "      <td>Мамоново</td>\n",
       "      <td>town</td>\n",
       "      <td>мамонов</td>\n",
       "    </tr>\n",
       "    <tr>\n",
       "      <th>60238408</th>\n",
       "      <td>Неман</td>\n",
       "      <td>town</td>\n",
       "      <td>нема</td>\n",
       "    </tr>\n",
       "    <tr>\n",
       "      <th>60238891</th>\n",
       "      <td>Ушаково</td>\n",
       "      <td>hamlet</td>\n",
       "      <td>ушаков</td>\n",
       "    </tr>\n",
       "    <tr>\n",
       "      <th>60696063</th>\n",
       "      <td>Любань</td>\n",
       "      <td>town</td>\n",
       "      <td>любаневич</td>\n",
       "    </tr>\n",
       "    <tr>\n",
       "      <th>82452220</th>\n",
       "      <td>Клин</td>\n",
       "      <td>town</td>\n",
       "      <td>клинский</td>\n",
       "    </tr>\n",
       "    <tr>\n",
       "      <th>82739207</th>\n",
       "      <td>Чайковский</td>\n",
       "      <td>town</td>\n",
       "      <td>чайковский</td>\n",
       "    </tr>\n",
       "    <tr>\n",
       "      <th>83308922</th>\n",
       "      <td>Рощино</td>\n",
       "      <td>town</td>\n",
       "      <td>рощин рощиненко</td>\n",
       "    </tr>\n",
       "    <tr>\n",
       "      <th>...</th>\n",
       "      <td>...</td>\n",
       "      <td>...</td>\n",
       "      <td>...</td>\n",
       "    </tr>\n",
       "    <tr>\n",
       "      <th>4458176359</th>\n",
       "      <td>Поток</td>\n",
       "      <td>locality</td>\n",
       "      <td>потокин</td>\n",
       "    </tr>\n",
       "    <tr>\n",
       "      <th>4458176360</th>\n",
       "      <td>Яма</td>\n",
       "      <td>locality</td>\n",
       "      <td>ямалеева ямов ямс</td>\n",
       "    </tr>\n",
       "    <tr>\n",
       "      <th>4459139096</th>\n",
       "      <td>Высокий</td>\n",
       "      <td>hamlet</td>\n",
       "      <td>высокинская</td>\n",
       "    </tr>\n",
       "    <tr>\n",
       "      <th>4459139101</th>\n",
       "      <td>Новая</td>\n",
       "      <td>hamlet</td>\n",
       "      <td>новосельцев новосидюк новоторжцев новочихина н...</td>\n",
       "    </tr>\n",
       "    <tr>\n",
       "      <th>4459221917</th>\n",
       "      <td>Лутово</td>\n",
       "      <td>hamlet</td>\n",
       "      <td>лутовкин</td>\n",
       "    </tr>\n",
       "    <tr>\n",
       "      <th>4459221921</th>\n",
       "      <td>Петровское</td>\n",
       "      <td>hamlet</td>\n",
       "      <td>петровская петровский</td>\n",
       "    </tr>\n",
       "    <tr>\n",
       "      <th>4459221925</th>\n",
       "      <td>Рассоха</td>\n",
       "      <td>hamlet</td>\n",
       "      <td>рассохин рассохов</td>\n",
       "    </tr>\n",
       "    <tr>\n",
       "      <th>4459221926</th>\n",
       "      <td>Розка</td>\n",
       "      <td>hamlet</td>\n",
       "      <td>розкевич</td>\n",
       "    </tr>\n",
       "    <tr>\n",
       "      <th>4459221927</th>\n",
       "      <td>Сторожевое</td>\n",
       "      <td>hamlet</td>\n",
       "      <td>сторожевых</td>\n",
       "    </tr>\n",
       "    <tr>\n",
       "      <th>4459221929</th>\n",
       "      <td>Шагаев</td>\n",
       "      <td>hamlet</td>\n",
       "      <td>шаганов</td>\n",
       "    </tr>\n",
       "    <tr>\n",
       "      <th>4459221930</th>\n",
       "      <td>Шаталово</td>\n",
       "      <td>hamlet</td>\n",
       "      <td>шаталов</td>\n",
       "    </tr>\n",
       "    <tr>\n",
       "      <th>4459221931</th>\n",
       "      <td>Южный</td>\n",
       "      <td>hamlet</td>\n",
       "      <td>южный</td>\n",
       "    </tr>\n",
       "    <tr>\n",
       "      <th>4461065465</th>\n",
       "      <td>Шалимово</td>\n",
       "      <td>hamlet</td>\n",
       "      <td>шалимов шалимова</td>\n",
       "    </tr>\n",
       "    <tr>\n",
       "      <th>4461944214</th>\n",
       "      <td>Палом</td>\n",
       "      <td>locality</td>\n",
       "      <td>палагичева паладе паламодов палатников палатче...</td>\n",
       "    </tr>\n",
       "    <tr>\n",
       "      <th>4461944215</th>\n",
       "      <td>Роза</td>\n",
       "      <td>locality</td>\n",
       "      <td>роза розанов розанова розанельский розалия роз...</td>\n",
       "    </tr>\n",
       "    <tr>\n",
       "      <th>4463220954</th>\n",
       "      <td>Горелое</td>\n",
       "      <td>village</td>\n",
       "      <td>горелик гореликов горелая</td>\n",
       "    </tr>\n",
       "    <tr>\n",
       "      <th>4463727180</th>\n",
       "      <td>ГАБО</td>\n",
       "      <td>locality</td>\n",
       "      <td>габалова габатадзе габдулов цыгонкова цыгонков...</td>\n",
       "    </tr>\n",
       "    <tr>\n",
       "      <th>4464895130</th>\n",
       "      <td>Сухое</td>\n",
       "      <td>hamlet</td>\n",
       "      <td>суходола суходолова суходольский суходаева сух...</td>\n",
       "    </tr>\n",
       "    <tr>\n",
       "      <th>4465561350</th>\n",
       "      <td>Могой</td>\n",
       "      <td>hamlet</td>\n",
       "      <td>могилевкина могилецкая могильницкий могилянцев...</td>\n",
       "    </tr>\n",
       "    <tr>\n",
       "      <th>4466179277</th>\n",
       "      <td>Устье</td>\n",
       "      <td>hamlet</td>\n",
       "      <td>устин устинович устиновна устиненко устинья ус...</td>\n",
       "    </tr>\n",
       "    <tr>\n",
       "      <th>4466193241</th>\n",
       "      <td>Утени</td>\n",
       "      <td>hamlet</td>\n",
       "      <td>утенков утенкова</td>\n",
       "    </tr>\n",
       "    <tr>\n",
       "      <th>4466479951</th>\n",
       "      <td>Калинино</td>\n",
       "      <td>isolated_dwelling</td>\n",
       "      <td>калинин калинина</td>\n",
       "    </tr>\n",
       "    <tr>\n",
       "      <th>4475140281</th>\n",
       "      <td>Богатый</td>\n",
       "      <td>hamlet</td>\n",
       "      <td>богатырев богатых богатушина богатков богаткова</td>\n",
       "    </tr>\n",
       "    <tr>\n",
       "      <th>4475140286</th>\n",
       "      <td>Леонтьево</td>\n",
       "      <td>village</td>\n",
       "      <td>леонтьев леонтьева</td>\n",
       "    </tr>\n",
       "    <tr>\n",
       "      <th>4475141595</th>\n",
       "      <td>Темное</td>\n",
       "      <td>hamlet</td>\n",
       "      <td>темносагатая темносагатый</td>\n",
       "    </tr>\n",
       "    <tr>\n",
       "      <th>4475221293</th>\n",
       "      <td>Дубки</td>\n",
       "      <td>hamlet</td>\n",
       "      <td>дубков</td>\n",
       "    </tr>\n",
       "    <tr>\n",
       "      <th>4475221298</th>\n",
       "      <td>Спартак</td>\n",
       "      <td>village</td>\n",
       "      <td>спартак спартакович спартаковна</td>\n",
       "    </tr>\n",
       "    <tr>\n",
       "      <th>4476191220</th>\n",
       "      <td>Сакура</td>\n",
       "      <td>hamlet</td>\n",
       "      <td>сакурина</td>\n",
       "    </tr>\n",
       "    <tr>\n",
       "      <th>4476329258</th>\n",
       "      <td>Прилепы</td>\n",
       "      <td>hamlet</td>\n",
       "      <td>прилепа</td>\n",
       "    </tr>\n",
       "    <tr>\n",
       "      <th>4476329265</th>\n",
       "      <td>Хитрово</td>\n",
       "      <td>hamlet</td>\n",
       "      <td>хитров хитрова</td>\n",
       "    </tr>\n",
       "  </tbody>\n",
       "</table>\n",
       "<p>35196 rows × 3 columns</p>\n",
       "</div>"
      ],
      "text/plain": [
       "                     name              place  \\\n",
       "26898826    Зеленоборский               town   \n",
       "26898992            Пунча             hamlet   \n",
       "26923442             Анда            village   \n",
       "26925161           Мезень               town   \n",
       "26951330          Вологда               city   \n",
       "27000366            Тверь               city   \n",
       "27023177             Луга               town   \n",
       "27024680           Пушкин               city   \n",
       "27090043            Курск               city   \n",
       "27464485       Петровское            village   \n",
       "27464486           Ростов               town   \n",
       "27489825           Поляны            village   \n",
       "27504067           Казань               city   \n",
       "27504531            Пермь               city   \n",
       "27504590          Саратов               city   \n",
       "27505582           Рязань               city   \n",
       "27505663            Пенза               city   \n",
       "29804102            Анапа               city   \n",
       "34043670             Сочи               city   \n",
       "34389350             Тула               city   \n",
       "34390960           Высоцк               town   \n",
       "60078302         Стародуб               town   \n",
       "60237889          Светлый               town   \n",
       "60238036         Мамоново               town   \n",
       "60238408            Неман               town   \n",
       "60238891          Ушаково             hamlet   \n",
       "60696063           Любань               town   \n",
       "82452220             Клин               town   \n",
       "82739207       Чайковский               town   \n",
       "83308922           Рощино               town   \n",
       "...                   ...                ...   \n",
       "4458176359          Поток           locality   \n",
       "4458176360            Яма           locality   \n",
       "4459139096        Высокий             hamlet   \n",
       "4459139101          Новая             hamlet   \n",
       "4459221917         Лутово             hamlet   \n",
       "4459221921     Петровское             hamlet   \n",
       "4459221925        Рассоха             hamlet   \n",
       "4459221926          Розка             hamlet   \n",
       "4459221927     Сторожевое             hamlet   \n",
       "4459221929         Шагаев             hamlet   \n",
       "4459221930       Шаталово             hamlet   \n",
       "4459221931          Южный             hamlet   \n",
       "4461065465       Шалимово             hamlet   \n",
       "4461944214          Палом           locality   \n",
       "4461944215           Роза           locality   \n",
       "4463220954        Горелое            village   \n",
       "4463727180           ГАБО           locality   \n",
       "4464895130          Сухое             hamlet   \n",
       "4465561350          Могой             hamlet   \n",
       "4466179277          Устье             hamlet   \n",
       "4466193241          Утени             hamlet   \n",
       "4466479951       Калинино  isolated_dwelling   \n",
       "4475140281        Богатый             hamlet   \n",
       "4475140286      Леонтьево            village   \n",
       "4475141595         Темное             hamlet   \n",
       "4475221293          Дубки             hamlet   \n",
       "4475221298        Спартак            village   \n",
       "4476191220         Сакура             hamlet   \n",
       "4476329258        Прилепы             hamlet   \n",
       "4476329265        Хитрово             hamlet   \n",
       "\n",
       "                                                      matched  \n",
       "26898826                                        зеленоборская  \n",
       "26898992                                               пунчер  \n",
       "26923442    андриан андрианова андрианович андриановна анд...  \n",
       "26925161                                            мезенцева  \n",
       "26951330                                             вологдин  \n",
       "27000366                    тверикин тверитин тверской тверье  \n",
       "27023177    лугов луговский луговцев луговинов лугавцов лу...  \n",
       "27024680                                               пушкин  \n",
       "27090043                                             курскова  \n",
       "27464485                                петровская петровский  \n",
       "27464486    ростислав ростиславович ростиславовна ростисла...  \n",
       "27489825    поляничев поляничкина полянский полякова поляк...  \n",
       "27504067        казанина казанкина казанов казанцев казанцева  \n",
       "27504531                                  пермедский пермикин  \n",
       "27504590                                             саратова  \n",
       "27505582                                              рязанов  \n",
       "27505663                                        пензей пензин  \n",
       "29804102                                             анапитов  \n",
       "34043670              сочин сочина сочинатров сочива соченков  \n",
       "34389350    тулевская тулевский туленко тулиев тулина тула...  \n",
       "34390960                                             высоцкий  \n",
       "60078302                  стародубцев стародубцева стародубов  \n",
       "60237889             светличков светличнова светлана светлова  \n",
       "60238036                                              мамонов  \n",
       "60238408                                                 нема  \n",
       "60238891                                               ушаков  \n",
       "60696063                                            любаневич  \n",
       "82452220                                             клинский  \n",
       "82739207                                           чайковский  \n",
       "83308922                                      рощин рощиненко  \n",
       "...                                                       ...  \n",
       "4458176359                                            потокин  \n",
       "4458176360                                  ямалеева ямов ямс  \n",
       "4459139096                                        высокинская  \n",
       "4459139101  новосельцев новосидюк новоторжцев новочихина н...  \n",
       "4459221917                                           лутовкин  \n",
       "4459221921                              петровская петровский  \n",
       "4459221925                                  рассохин рассохов  \n",
       "4459221926                                           розкевич  \n",
       "4459221927                                         сторожевых  \n",
       "4459221929                                            шаганов  \n",
       "4459221930                                            шаталов  \n",
       "4459221931                                              южный  \n",
       "4461065465                                   шалимов шалимова  \n",
       "4461944214  палагичева паладе паламодов палатников палатче...  \n",
       "4461944215  роза розанов розанова розанельский розалия роз...  \n",
       "4463220954                          горелик гореликов горелая  \n",
       "4463727180  габалова габатадзе габдулов цыгонкова цыгонков...  \n",
       "4464895130  суходола суходолова суходольский суходаева сух...  \n",
       "4465561350  могилевкина могилецкая могильницкий могилянцев...  \n",
       "4466179277  устин устинович устиновна устиненко устинья ус...  \n",
       "4466193241                                   утенков утенкова  \n",
       "4466479951                                   калинин калинина  \n",
       "4475140281    богатырев богатых богатушина богатков богаткова  \n",
       "4475140286                                 леонтьев леонтьева  \n",
       "4475141595                          темносагатая темносагатый  \n",
       "4475221293                                             дубков  \n",
       "4475221298                    спартак спартакович спартаковна  \n",
       "4476191220                                           сакурина  \n",
       "4476329258                                            прилепа  \n",
       "4476329265                                     хитров хитрова  \n",
       "\n",
       "[35196 rows x 3 columns]"
      ]
     },
     "execution_count": 497,
     "metadata": {},
     "output_type": "execute_result"
    }
   ],
   "source": [
    "places[places.matched.notnull()]"
   ]
  }
 ],
 "metadata": {
  "kernelspec": {
   "display_name": "Python 2",
   "language": "python",
   "name": "python2"
  },
  "language_info": {
   "codemirror_mode": {
    "name": "ipython",
    "version": 2
   },
   "file_extension": ".py",
   "mimetype": "text/x-python",
   "name": "python",
   "nbconvert_exporter": "python",
   "pygments_lexer": "ipython2",
   "version": "2.7.6"
  }
 },
 "nbformat": 4,
 "nbformat_minor": 1
}
