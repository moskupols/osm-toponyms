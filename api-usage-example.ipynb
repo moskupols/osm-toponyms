{
 "cells": [
  {
   "cell_type": "markdown",
   "metadata": {},
   "source": [
    "## выкачивание данных"
   ]
  },
  {
   "cell_type": "code",
   "execution_count": 3,
   "metadata": {
    "collapsed": true
   },
   "outputs": [],
   "source": [
    "import overpy\n",
    "op = overpy.Overpass()"
   ]
  },
  {
   "cell_type": "code",
   "execution_count": 123,
   "metadata": {
    "collapsed": false
   },
   "outputs": [],
   "source": [
    "# http://gis.stackexchange.com/questions/178424/overpass-turbo-area-code-lookup\n",
    "AREA = \"3600060189\"  # Russia"
   ]
  },
  {
   "cell_type": "code",
   "execution_count": 41,
   "metadata": {
    "collapsed": false
   },
   "outputs": [],
   "source": [
    "r = op.query('''\n",
    "area({})->.searchArea;\n",
    "(\n",
    "    way\n",
    "    [\"name\"][\"highway\"]\n",
    "    (area.searchArea);\n",
    ");\n",
    "out;\n",
    "'''.format(AREA))"
   ]
  },
  {
   "cell_type": "code",
   "execution_count": 47,
   "metadata": {
    "collapsed": false
   },
   "outputs": [],
   "source": [
    "import cPickle\n",
    "with open('ways_ru.pcl', 'wb') as pcl:\n",
    "    cPickle.dump(r, pcl)"
   ]
  },
  {
   "cell_type": "markdown",
   "metadata": {},
   "source": [
    "## загрузка данных"
   ]
  },
  {
   "cell_type": "code",
   "execution_count": null,
   "metadata": {
    "collapsed": false
   },
   "outputs": [],
   "source": [
    "import cPickle\n",
    "with open('ways_ru.pcl', 'rb') as pcl:\n",
    "    r = cPickle.load(pcl)"
   ]
  },
  {
   "cell_type": "code",
   "execution_count": 136,
   "metadata": {
    "collapsed": false,
    "scrolled": true
   },
   "outputs": [
    {
     "data": {
      "text/plain": [
       "{'highway': 'tertiary',\n",
       " 'name': u'\\u041a\\u043e\\u043c\\u0441\\u043e\\u043c\\u043e\\u043b\\u044c\\u0441\\u043a\\u0430\\u044f \\u0443\\u043b\\u0438\\u0446\\u0430',\n",
       " 'name:en': \"Komsomol'skaja street\",\n",
       " 'name:ru': u'\\u041a\\u043e\\u043c\\u0441\\u043e\\u043c\\u043e\\u043b\\u044c\\u0441\\u043a\\u0430\\u044f \\u0443\\u043b\\u0438\\u0446\\u0430',\n",
       " 'postal_code': '183038',\n",
       " 'surface': 'asphalt'}"
      ]
     },
     "execution_count": 136,
     "metadata": {},
     "output_type": "execute_result"
    }
   ],
   "source": [
    "r.ways[1].tags"
   ]
  },
  {
   "cell_type": "code",
   "execution_count": 134,
   "metadata": {
    "collapsed": false
   },
   "outputs": [
    {
     "data": {
      "text/html": [
       "<div>\n",
       "<table border=\"1\" class=\"dataframe\">\n",
       "  <thead>\n",
       "    <tr style=\"text-align: right;\">\n",
       "      <th></th>\n",
       "      <th>name</th>\n",
       "      <th>highway</th>\n",
       "      <th>name:en</th>\n",
       "      <th>name:de</th>\n",
       "    </tr>\n",
       "  </thead>\n",
       "  <tbody>\n",
       "    <tr>\n",
       "      <th>4078548</th>\n",
       "      <td>Шепетовская улица</td>\n",
       "      <td>residential</td>\n",
       "      <td>NaN</td>\n",
       "      <td>NaN</td>\n",
       "    </tr>\n",
       "    <tr>\n",
       "      <th>4391345</th>\n",
       "      <td>Комсомольская улица</td>\n",
       "      <td>tertiary</td>\n",
       "      <td>Komsomol'skaja street</td>\n",
       "      <td>NaN</td>\n",
       "    </tr>\n",
       "    <tr>\n",
       "      <th>4391346</th>\n",
       "      <td>проспект Ленина</td>\n",
       "      <td>primary</td>\n",
       "      <td>Lenina avenue</td>\n",
       "      <td>NaN</td>\n",
       "    </tr>\n",
       "    <tr>\n",
       "      <th>4391347</th>\n",
       "      <td>улица Полярные Зори</td>\n",
       "      <td>secondary</td>\n",
       "      <td>Poljarnye Zori street</td>\n",
       "      <td>NaN</td>\n",
       "    </tr>\n",
       "    <tr>\n",
       "      <th>4391349</th>\n",
       "      <td>улица Книповича</td>\n",
       "      <td>secondary</td>\n",
       "      <td>Knipovicha street</td>\n",
       "      <td>NaN</td>\n",
       "    </tr>\n",
       "  </tbody>\n",
       "</table>\n",
       "</div>"
      ],
      "text/plain": [
       "                        name      highway                name:en name:de\n",
       "4078548    Шепетовская улица  residential                    NaN     NaN\n",
       "4391345  Комсомольская улица     tertiary  Komsomol'skaja street     NaN\n",
       "4391346      проспект Ленина      primary          Lenina avenue     NaN\n",
       "4391347  улица Полярные Зори    secondary  Poljarnye Zori street     NaN\n",
       "4391349      улица Книповича    secondary      Knipovicha street     NaN"
      ]
     },
     "execution_count": 134,
     "metadata": {},
     "output_type": "execute_result"
    }
   ],
   "source": [
    "import pandas as pd\n",
    "\n",
    "df = pd.DataFrame(\n",
    "    data=[w.tags for w in r.ways],\n",
    "    index=[w.id for w in r.ways],\n",
    "    columns=['name', 'highway', 'name:en', 'name:de']\n",
    ")\n",
    "df.head()"
   ]
  },
  {
   "cell_type": "code",
   "execution_count": 135,
   "metadata": {
    "collapsed": false
   },
   "outputs": [
    {
     "data": {
      "text/plain": [
       "659126"
      ]
     },
     "execution_count": 135,
     "metadata": {},
     "output_type": "execute_result"
    }
   ],
   "source": [
    "len(df)"
   ]
  },
  {
   "cell_type": "code",
   "execution_count": 68,
   "metadata": {
    "collapsed": false
   },
   "outputs": [
    {
     "data": {
      "text/plain": [
       "Советская улица      8672\n",
       "улица Ленина         8444\n",
       "Центральная улица    6983\n",
       "Школьная улица       5531\n",
       "Садовая улица        5492\n",
       "Name: name, dtype: int64"
      ]
     },
     "execution_count": 68,
     "metadata": {},
     "output_type": "execute_result"
    }
   ],
   "source": [
    "df.name.value_counts().head()"
   ]
  },
  {
   "cell_type": "code",
   "execution_count": 128,
   "metadata": {
    "collapsed": false
   },
   "outputs": [
    {
     "data": {
      "text/plain": [
       "улица Ленина          8444\n",
       "улица Мира            5095\n",
       "улица Гагарина        3883\n",
       "улица Кирова          3530\n",
       "улица Пушкина         3012\n",
       "улица Калинина        2843\n",
       "улица Карла Маркса    2302\n",
       "улица Горького        2209\n",
       "улица Чапаева         2084\n",
       "улица Победы          2019\n",
       "улица Строителей      1725\n",
       "улица Дзержинского    1645\n",
       "улица Чкалова         1508\n",
       "проспект Ленина       1485\n",
       "улица Свердлова       1476\n",
       "Name: name, dtype: int64"
      ]
     },
     "execution_count": 128,
     "metadata": {},
     "output_type": "execute_result"
    }
   ],
   "source": [
    "streets_of = df[\n",
    "    df.name.str.startswith(u'улица')\n",
    "    | df.name.str.startswith(u'проспект')\n",
    "]\n",
    "streets_of.name.value_counts().head(15)"
   ]
  },
  {
   "cell_type": "code",
   "execution_count": 151,
   "metadata": {
    "collapsed": false
   },
   "outputs": [
    {
     "data": {
      "text/plain": [
       "ленин      9946\n",
       "мир        5830\n",
       "гагарин    4194\n",
       "победа     3964\n",
       "киров      3758\n",
       "горький    3079\n",
       "пушкин     3028\n",
       "калинин    2938\n",
       "маркс      2672\n",
       "октябрь    2499\n",
       "Name: name, dtype: int64"
      ]
     },
     "execution_count": 151,
     "metadata": {},
     "output_type": "execute_result"
    }
   ],
   "source": [
    "import pymorphy2\n",
    "morph = pymorphy2.MorphAnalyzer()\n",
    "\n",
    "streets_of.name.map(\n",
    "    lambda s: morph.normal_forms(s.split()[-1])[0]\n",
    ").value_counts().head(10)"
   ]
  }
 ],
 "metadata": {
  "kernelspec": {
   "display_name": "Python 2",
   "language": "python",
   "name": "python2"
  },
  "language_info": {
   "codemirror_mode": {
    "name": "ipython",
    "version": 2
   },
   "file_extension": ".py",
   "mimetype": "text/x-python",
   "name": "python",
   "nbconvert_exporter": "python",
   "pygments_lexer": "ipython2",
   "version": "2.7.6"
  }
 },
 "nbformat": 4,
 "nbformat_minor": 1
}
